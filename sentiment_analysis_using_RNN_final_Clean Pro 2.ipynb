{
  "metadata": {
    "kernelspec": {
      "language": "python",
      "display_name": "Python 3",
      "name": "python3"
    },
    "language_info": {
      "name": "python",
      "version": "3.7.12",
      "mimetype": "text/x-python",
      "codemirror_mode": {
        "name": "ipython",
        "version": 3
      },
      "pygments_lexer": "ipython3",
      "nbconvert_exporter": "python",
      "file_extension": ".py"
    },
    "kaggle": {
      "accelerator": "none",
      "dataSources": [
        {
          "sourceId": 4180864,
          "sourceType": "datasetVersion",
          "datasetId": 2466694
        },
        {
          "sourceId": 8633472,
          "sourceType": "datasetVersion",
          "datasetId": 5169690
        }
      ],
      "dockerImageVersionId": 30235,
      "isInternetEnabled": true,
      "language": "python",
      "sourceType": "notebook",
      "isGpuEnabled": false
    },
    "colab": {
      "provenance": [],
      "include_colab_link": true
    }
  },
  "nbformat_minor": 0,
  "nbformat": 4,
  "cells": [
    {
      "cell_type": "markdown",
      "metadata": {
        "id": "view-in-github",
        "colab_type": "text"
      },
      "source": [
        "<a href=\"https://colab.research.google.com/github/farshid101/100-days-of-machine-learning/blob/main/sentiment_analysis_using_RNN_final_Clean%20Pro%202.ipynb\" target=\"_parent\"><img src=\"https://colab.research.google.com/assets/colab-badge.svg\" alt=\"Open In Colab\"/></a>"
      ]
    },
    {
      "cell_type": "code",
      "source": [
        "import numpy as np\n",
        "import pandas as pd\n",
        "import re"
      ],
      "metadata": {
        "execution": {
          "iopub.status.busy": "2024-06-07T15:37:48.108640Z",
          "iopub.execute_input": "2024-06-07T15:37:48.109200Z",
          "iopub.status.idle": "2024-06-07T15:37:48.136923Z",
          "shell.execute_reply.started": "2024-06-07T15:37:48.109088Z",
          "shell.execute_reply": "2024-06-07T15:37:48.135768Z"
        },
        "trusted": true,
        "id": "zvUHiaHpXKd_"
      },
      "execution_count": 1,
      "outputs": []
    },
    {
      "cell_type": "code",
      "source": [
        "#!wget \"https://github.com/farshid101/Thesis-2024/blob/main/Final_clean%20pro%202.xlsx\""
      ],
      "metadata": {
        "id": "8Mzha5GqnK5D"
      },
      "execution_count": null,
      "outputs": []
    },
    {
      "cell_type": "code",
      "source": [
        "df = pd.read_excel('/content/Final_clean pro 2.xlsx')"
      ],
      "metadata": {
        "execution": {
          "iopub.status.busy": "2024-06-07T15:38:11.694329Z",
          "iopub.execute_input": "2024-06-07T15:38:11.694887Z",
          "iopub.status.idle": "2024-06-07T15:38:11.732879Z",
          "shell.execute_reply.started": "2024-06-07T15:38:11.694836Z",
          "shell.execute_reply": "2024-06-07T15:38:11.731724Z"
        },
        "trusted": true,
        "id": "ttRFSQeuXKeA"
      },
      "execution_count": 2,
      "outputs": []
    },
    {
      "cell_type": "code",
      "source": [
        "df"
      ],
      "metadata": {
        "execution": {
          "iopub.status.busy": "2024-06-07T15:38:13.423345Z",
          "iopub.execute_input": "2024-06-07T15:38:13.423827Z",
          "iopub.status.idle": "2024-06-07T15:38:13.453072Z",
          "shell.execute_reply.started": "2024-06-07T15:38:13.423789Z",
          "shell.execute_reply": "2024-06-07T15:38:13.451792Z"
        },
        "trusted": true,
        "colab": {
          "base_uri": "https://localhost:8080/",
          "height": 423
        },
        "id": "OO4FDmU1XKeA",
        "outputId": "7f8d4fad-25ff-424c-d63f-b4328c6f6525"
      },
      "execution_count": 3,
      "outputs": [
        {
          "output_type": "execute_result",
          "data": {
            "text/plain": [
              "                                               Comments     Label\n",
              "0     তোমরা সবাই এই ভাই তাকে একটু  কোরোভিডিও গুলো দে...  positive\n",
              "1     🎯 ব্রহ্মপুত্র নদের ওপর নির্মিত ৯.১৫ কিলোমিটারে...  positive\n",
              "2            😊 ধন্যবাদ মাননীয় প্রধানমন্ত্রী শেখ হাসিনা  positive\n",
              "3                                   2022 এর 25 এ জুন 🥰🥰   neutral\n",
              "4     অনুভূতিটা এত সুন্দর ভাষায় প্রকাশ করতে পারতেছি...  positive\n",
              "...                                                 ...       ...\n",
              "6370                         সব পিকাব বন্দ করে দেয়া হোক  negative\n",
              "6371  এটাতো গোটারি কথা কারণ কোরআনের বদলে গান বলে উদ্...   neutral\n",
              "6372                             এগুলা সব বিনপির এর কাজ   neutral\n",
              "6373                      এইবার ট্রাক বন্ধ করে দেয়া হোক  negative\n",
              "6374    কি হচ্ছে এসব!! আল্লাহ তায়ালা হেফাযত করুন!! আমিন  positive\n",
              "\n",
              "[6375 rows x 2 columns]"
            ],
            "text/html": [
              "\n",
              "  <div id=\"df-b39b7075-5be3-4752-9db8-c988e62cefd8\" class=\"colab-df-container\">\n",
              "    <div>\n",
              "<style scoped>\n",
              "    .dataframe tbody tr th:only-of-type {\n",
              "        vertical-align: middle;\n",
              "    }\n",
              "\n",
              "    .dataframe tbody tr th {\n",
              "        vertical-align: top;\n",
              "    }\n",
              "\n",
              "    .dataframe thead th {\n",
              "        text-align: right;\n",
              "    }\n",
              "</style>\n",
              "<table border=\"1\" class=\"dataframe\">\n",
              "  <thead>\n",
              "    <tr style=\"text-align: right;\">\n",
              "      <th></th>\n",
              "      <th>Comments</th>\n",
              "      <th>Label</th>\n",
              "    </tr>\n",
              "  </thead>\n",
              "  <tbody>\n",
              "    <tr>\n",
              "      <th>0</th>\n",
              "      <td>তোমরা সবাই এই ভাই তাকে একটু  কোরোভিডিও গুলো দে...</td>\n",
              "      <td>positive</td>\n",
              "    </tr>\n",
              "    <tr>\n",
              "      <th>1</th>\n",
              "      <td>🎯 ব্রহ্মপুত্র নদের ওপর নির্মিত ৯.১৫ কিলোমিটারে...</td>\n",
              "      <td>positive</td>\n",
              "    </tr>\n",
              "    <tr>\n",
              "      <th>2</th>\n",
              "      <td>😊 ধন্যবাদ মাননীয় প্রধানমন্ত্রী শেখ হাসিনা</td>\n",
              "      <td>positive</td>\n",
              "    </tr>\n",
              "    <tr>\n",
              "      <th>3</th>\n",
              "      <td>2022 এর 25 এ জুন 🥰🥰</td>\n",
              "      <td>neutral</td>\n",
              "    </tr>\n",
              "    <tr>\n",
              "      <th>4</th>\n",
              "      <td>অনুভূতিটা এত সুন্দর ভাষায় প্রকাশ করতে পারতেছি...</td>\n",
              "      <td>positive</td>\n",
              "    </tr>\n",
              "    <tr>\n",
              "      <th>...</th>\n",
              "      <td>...</td>\n",
              "      <td>...</td>\n",
              "    </tr>\n",
              "    <tr>\n",
              "      <th>6370</th>\n",
              "      <td>সব পিকাব বন্দ করে দেয়া হোক</td>\n",
              "      <td>negative</td>\n",
              "    </tr>\n",
              "    <tr>\n",
              "      <th>6371</th>\n",
              "      <td>এটাতো গোটারি কথা কারণ কোরআনের বদলে গান বলে উদ্...</td>\n",
              "      <td>neutral</td>\n",
              "    </tr>\n",
              "    <tr>\n",
              "      <th>6372</th>\n",
              "      <td>এগুলা সব বিনপির এর কাজ</td>\n",
              "      <td>neutral</td>\n",
              "    </tr>\n",
              "    <tr>\n",
              "      <th>6373</th>\n",
              "      <td>এইবার ট্রাক বন্ধ করে দেয়া হোক</td>\n",
              "      <td>negative</td>\n",
              "    </tr>\n",
              "    <tr>\n",
              "      <th>6374</th>\n",
              "      <td>কি হচ্ছে এসব!! আল্লাহ তায়ালা হেফাযত করুন!! আমিন</td>\n",
              "      <td>positive</td>\n",
              "    </tr>\n",
              "  </tbody>\n",
              "</table>\n",
              "<p>6375 rows × 2 columns</p>\n",
              "</div>\n",
              "    <div class=\"colab-df-buttons\">\n",
              "\n",
              "  <div class=\"colab-df-container\">\n",
              "    <button class=\"colab-df-convert\" onclick=\"convertToInteractive('df-b39b7075-5be3-4752-9db8-c988e62cefd8')\"\n",
              "            title=\"Convert this dataframe to an interactive table.\"\n",
              "            style=\"display:none;\">\n",
              "\n",
              "  <svg xmlns=\"http://www.w3.org/2000/svg\" height=\"24px\" viewBox=\"0 -960 960 960\">\n",
              "    <path d=\"M120-120v-720h720v720H120Zm60-500h600v-160H180v160Zm220 220h160v-160H400v160Zm0 220h160v-160H400v160ZM180-400h160v-160H180v160Zm440 0h160v-160H620v160ZM180-180h160v-160H180v160Zm440 0h160v-160H620v160Z\"/>\n",
              "  </svg>\n",
              "    </button>\n",
              "\n",
              "  <style>\n",
              "    .colab-df-container {\n",
              "      display:flex;\n",
              "      gap: 12px;\n",
              "    }\n",
              "\n",
              "    .colab-df-convert {\n",
              "      background-color: #E8F0FE;\n",
              "      border: none;\n",
              "      border-radius: 50%;\n",
              "      cursor: pointer;\n",
              "      display: none;\n",
              "      fill: #1967D2;\n",
              "      height: 32px;\n",
              "      padding: 0 0 0 0;\n",
              "      width: 32px;\n",
              "    }\n",
              "\n",
              "    .colab-df-convert:hover {\n",
              "      background-color: #E2EBFA;\n",
              "      box-shadow: 0px 1px 2px rgba(60, 64, 67, 0.3), 0px 1px 3px 1px rgba(60, 64, 67, 0.15);\n",
              "      fill: #174EA6;\n",
              "    }\n",
              "\n",
              "    .colab-df-buttons div {\n",
              "      margin-bottom: 4px;\n",
              "    }\n",
              "\n",
              "    [theme=dark] .colab-df-convert {\n",
              "      background-color: #3B4455;\n",
              "      fill: #D2E3FC;\n",
              "    }\n",
              "\n",
              "    [theme=dark] .colab-df-convert:hover {\n",
              "      background-color: #434B5C;\n",
              "      box-shadow: 0px 1px 3px 1px rgba(0, 0, 0, 0.15);\n",
              "      filter: drop-shadow(0px 1px 2px rgba(0, 0, 0, 0.3));\n",
              "      fill: #FFFFFF;\n",
              "    }\n",
              "  </style>\n",
              "\n",
              "    <script>\n",
              "      const buttonEl =\n",
              "        document.querySelector('#df-b39b7075-5be3-4752-9db8-c988e62cefd8 button.colab-df-convert');\n",
              "      buttonEl.style.display =\n",
              "        google.colab.kernel.accessAllowed ? 'block' : 'none';\n",
              "\n",
              "      async function convertToInteractive(key) {\n",
              "        const element = document.querySelector('#df-b39b7075-5be3-4752-9db8-c988e62cefd8');\n",
              "        const dataTable =\n",
              "          await google.colab.kernel.invokeFunction('convertToInteractive',\n",
              "                                                    [key], {});\n",
              "        if (!dataTable) return;\n",
              "\n",
              "        const docLinkHtml = 'Like what you see? Visit the ' +\n",
              "          '<a target=\"_blank\" href=https://colab.research.google.com/notebooks/data_table.ipynb>data table notebook</a>'\n",
              "          + ' to learn more about interactive tables.';\n",
              "        element.innerHTML = '';\n",
              "        dataTable['output_type'] = 'display_data';\n",
              "        await google.colab.output.renderOutput(dataTable, element);\n",
              "        const docLink = document.createElement('div');\n",
              "        docLink.innerHTML = docLinkHtml;\n",
              "        element.appendChild(docLink);\n",
              "      }\n",
              "    </script>\n",
              "  </div>\n",
              "\n",
              "\n",
              "<div id=\"df-0c09ee88-dac7-4569-99de-1d858ce638c5\">\n",
              "  <button class=\"colab-df-quickchart\" onclick=\"quickchart('df-0c09ee88-dac7-4569-99de-1d858ce638c5')\"\n",
              "            title=\"Suggest charts\"\n",
              "            style=\"display:none;\">\n",
              "\n",
              "<svg xmlns=\"http://www.w3.org/2000/svg\" height=\"24px\"viewBox=\"0 0 24 24\"\n",
              "     width=\"24px\">\n",
              "    <g>\n",
              "        <path d=\"M19 3H5c-1.1 0-2 .9-2 2v14c0 1.1.9 2 2 2h14c1.1 0 2-.9 2-2V5c0-1.1-.9-2-2-2zM9 17H7v-7h2v7zm4 0h-2V7h2v10zm4 0h-2v-4h2v4z\"/>\n",
              "    </g>\n",
              "</svg>\n",
              "  </button>\n",
              "\n",
              "<style>\n",
              "  .colab-df-quickchart {\n",
              "      --bg-color: #E8F0FE;\n",
              "      --fill-color: #1967D2;\n",
              "      --hover-bg-color: #E2EBFA;\n",
              "      --hover-fill-color: #174EA6;\n",
              "      --disabled-fill-color: #AAA;\n",
              "      --disabled-bg-color: #DDD;\n",
              "  }\n",
              "\n",
              "  [theme=dark] .colab-df-quickchart {\n",
              "      --bg-color: #3B4455;\n",
              "      --fill-color: #D2E3FC;\n",
              "      --hover-bg-color: #434B5C;\n",
              "      --hover-fill-color: #FFFFFF;\n",
              "      --disabled-bg-color: #3B4455;\n",
              "      --disabled-fill-color: #666;\n",
              "  }\n",
              "\n",
              "  .colab-df-quickchart {\n",
              "    background-color: var(--bg-color);\n",
              "    border: none;\n",
              "    border-radius: 50%;\n",
              "    cursor: pointer;\n",
              "    display: none;\n",
              "    fill: var(--fill-color);\n",
              "    height: 32px;\n",
              "    padding: 0;\n",
              "    width: 32px;\n",
              "  }\n",
              "\n",
              "  .colab-df-quickchart:hover {\n",
              "    background-color: var(--hover-bg-color);\n",
              "    box-shadow: 0 1px 2px rgba(60, 64, 67, 0.3), 0 1px 3px 1px rgba(60, 64, 67, 0.15);\n",
              "    fill: var(--button-hover-fill-color);\n",
              "  }\n",
              "\n",
              "  .colab-df-quickchart-complete:disabled,\n",
              "  .colab-df-quickchart-complete:disabled:hover {\n",
              "    background-color: var(--disabled-bg-color);\n",
              "    fill: var(--disabled-fill-color);\n",
              "    box-shadow: none;\n",
              "  }\n",
              "\n",
              "  .colab-df-spinner {\n",
              "    border: 2px solid var(--fill-color);\n",
              "    border-color: transparent;\n",
              "    border-bottom-color: var(--fill-color);\n",
              "    animation:\n",
              "      spin 1s steps(1) infinite;\n",
              "  }\n",
              "\n",
              "  @keyframes spin {\n",
              "    0% {\n",
              "      border-color: transparent;\n",
              "      border-bottom-color: var(--fill-color);\n",
              "      border-left-color: var(--fill-color);\n",
              "    }\n",
              "    20% {\n",
              "      border-color: transparent;\n",
              "      border-left-color: var(--fill-color);\n",
              "      border-top-color: var(--fill-color);\n",
              "    }\n",
              "    30% {\n",
              "      border-color: transparent;\n",
              "      border-left-color: var(--fill-color);\n",
              "      border-top-color: var(--fill-color);\n",
              "      border-right-color: var(--fill-color);\n",
              "    }\n",
              "    40% {\n",
              "      border-color: transparent;\n",
              "      border-right-color: var(--fill-color);\n",
              "      border-top-color: var(--fill-color);\n",
              "    }\n",
              "    60% {\n",
              "      border-color: transparent;\n",
              "      border-right-color: var(--fill-color);\n",
              "    }\n",
              "    80% {\n",
              "      border-color: transparent;\n",
              "      border-right-color: var(--fill-color);\n",
              "      border-bottom-color: var(--fill-color);\n",
              "    }\n",
              "    90% {\n",
              "      border-color: transparent;\n",
              "      border-bottom-color: var(--fill-color);\n",
              "    }\n",
              "  }\n",
              "</style>\n",
              "\n",
              "  <script>\n",
              "    async function quickchart(key) {\n",
              "      const quickchartButtonEl =\n",
              "        document.querySelector('#' + key + ' button');\n",
              "      quickchartButtonEl.disabled = true;  // To prevent multiple clicks.\n",
              "      quickchartButtonEl.classList.add('colab-df-spinner');\n",
              "      try {\n",
              "        const charts = await google.colab.kernel.invokeFunction(\n",
              "            'suggestCharts', [key], {});\n",
              "      } catch (error) {\n",
              "        console.error('Error during call to suggestCharts:', error);\n",
              "      }\n",
              "      quickchartButtonEl.classList.remove('colab-df-spinner');\n",
              "      quickchartButtonEl.classList.add('colab-df-quickchart-complete');\n",
              "    }\n",
              "    (() => {\n",
              "      let quickchartButtonEl =\n",
              "        document.querySelector('#df-0c09ee88-dac7-4569-99de-1d858ce638c5 button');\n",
              "      quickchartButtonEl.style.display =\n",
              "        google.colab.kernel.accessAllowed ? 'block' : 'none';\n",
              "    })();\n",
              "  </script>\n",
              "</div>\n",
              "\n",
              "  <div id=\"id_8b7ce976-8122-4957-8d76-0af4d1eb0718\">\n",
              "    <style>\n",
              "      .colab-df-generate {\n",
              "        background-color: #E8F0FE;\n",
              "        border: none;\n",
              "        border-radius: 50%;\n",
              "        cursor: pointer;\n",
              "        display: none;\n",
              "        fill: #1967D2;\n",
              "        height: 32px;\n",
              "        padding: 0 0 0 0;\n",
              "        width: 32px;\n",
              "      }\n",
              "\n",
              "      .colab-df-generate:hover {\n",
              "        background-color: #E2EBFA;\n",
              "        box-shadow: 0px 1px 2px rgba(60, 64, 67, 0.3), 0px 1px 3px 1px rgba(60, 64, 67, 0.15);\n",
              "        fill: #174EA6;\n",
              "      }\n",
              "\n",
              "      [theme=dark] .colab-df-generate {\n",
              "        background-color: #3B4455;\n",
              "        fill: #D2E3FC;\n",
              "      }\n",
              "\n",
              "      [theme=dark] .colab-df-generate:hover {\n",
              "        background-color: #434B5C;\n",
              "        box-shadow: 0px 1px 3px 1px rgba(0, 0, 0, 0.15);\n",
              "        filter: drop-shadow(0px 1px 2px rgba(0, 0, 0, 0.3));\n",
              "        fill: #FFFFFF;\n",
              "      }\n",
              "    </style>\n",
              "    <button class=\"colab-df-generate\" onclick=\"generateWithVariable('df')\"\n",
              "            title=\"Generate code using this dataframe.\"\n",
              "            style=\"display:none;\">\n",
              "\n",
              "  <svg xmlns=\"http://www.w3.org/2000/svg\" height=\"24px\"viewBox=\"0 0 24 24\"\n",
              "       width=\"24px\">\n",
              "    <path d=\"M7,19H8.4L18.45,9,17,7.55,7,17.6ZM5,21V16.75L18.45,3.32a2,2,0,0,1,2.83,0l1.4,1.43a1.91,1.91,0,0,1,.58,1.4,1.91,1.91,0,0,1-.58,1.4L9.25,21ZM18.45,9,17,7.55Zm-12,3A5.31,5.31,0,0,0,4.9,8.1,5.31,5.31,0,0,0,1,6.5,5.31,5.31,0,0,0,4.9,4.9,5.31,5.31,0,0,0,6.5,1,5.31,5.31,0,0,0,8.1,4.9,5.31,5.31,0,0,0,12,6.5,5.46,5.46,0,0,0,6.5,12Z\"/>\n",
              "  </svg>\n",
              "    </button>\n",
              "    <script>\n",
              "      (() => {\n",
              "      const buttonEl =\n",
              "        document.querySelector('#id_8b7ce976-8122-4957-8d76-0af4d1eb0718 button.colab-df-generate');\n",
              "      buttonEl.style.display =\n",
              "        google.colab.kernel.accessAllowed ? 'block' : 'none';\n",
              "\n",
              "      buttonEl.onclick = () => {\n",
              "        google.colab.notebook.generateWithVariable('df');\n",
              "      }\n",
              "      })();\n",
              "    </script>\n",
              "  </div>\n",
              "\n",
              "    </div>\n",
              "  </div>\n"
            ],
            "application/vnd.google.colaboratory.intrinsic+json": {
              "type": "dataframe",
              "variable_name": "df",
              "summary": "{\n  \"name\": \"df\",\n  \"rows\": 6375,\n  \"fields\": [\n    {\n      \"column\": \"Comments\",\n      \"properties\": {\n        \"dtype\": \"string\",\n        \"num_unique_values\": 6375,\n        \"samples\": [\n          \"\\u0986\\u0993\\u09df\\u09be\\u09ae\\u09c0\\u09b2\\u09c0\\u0997\\u09c7\\u09b0 \\u0986\\u09b0\\u09c7\\u0995 \\u09a8\\u09be\\u09ae \\u09b6\\u09c7\\u0996 \\u09b9\\u09be\\u09b8\\u09bf\\u09a8\\u09be\\u09b0 \\u0989\\u09a8\\u09cd\\u09a8\\u09af\\u09bc\\u09a8\\u0964 \\u0986\\u09aa\\u09be, \\u0986\\u09aa\\u09be, \\u0986\\u09aa\\u09be \\u0995\\u09bf \\u0995\\u09b0\\u09c7 \\u0997\\u09c7\\u099b\\u09c7\\u09a8 \\u09b8\\u09ac\\u09be\\u0987 \\u099c\\u09be\\u09a8\\u09c7 \\u0997\\u09c7\\u099b\\u09c7\\u0964\",\n          \"\\u0986\\u09b2\\u09cd\\u09b2\\u09be\\u09b9 \\u0986\\u09aa\\u09a8\\u09bf \\u09b8\\u09ac\\u09be\\u0987\\u0995\\u09c7 \\u09b9\\u09c7\\u09ab\\u09be\\u099c\\u09a4 \\u0995\\u09b0\\u09c7\\u09a8 \\u0986\\u09b2\\u09cd\\u09b2\\u09be\\u09b9\\u09c1\\u09ae\\u09cd\\u09ae\\u09be \\u0986\\u09ae\\u09bf\\u09a8\",\n          \"\\u09a6\\u09c1\\u09b0\\u09cd\\u0998\\u099f\\u09a8\\u09be \\u09a4\\u09cb \\u0998\\u099f\\u09ac\\u09c7\\u0987... \\u0986\\u09b2\\u09cd\\u09b2\\u09be\\u09b9 \\u09a8\\u09be\\u09b0\\u09be\\u099c \\u09b8\\u09ac\\u09be\\u09b0 \\u0989\\u09aa\\u09b0\\u09c7\\u0964 \\u09af\\u09c7 \\u09a6\\u09c7\\u09b6\\u09c7 \\u098f\\u09ae\\u09a8 \\u09b0\\u09be\\u0995\\u09cd\\u09b7\\u09b8\\u09c0 \\u09ae\\u09a8\\u09cd\\u09a4\\u09cd\\u09b0\\u09c0 \\u09a5\\u09be\\u0995\\u09c7 \\u09af\\u09c7 \\u09a6\\u09c7\\u09b6\\u09c7 \\u0997\\u09b0\\u09c0\\u09ac \\u09ae\\u09be\\u09a8\\u09c1\\u09b7\\u09c7\\u09b0 \\u09b9\\u0995 \\u09a0\\u0995\\u09be\\u09df \\u0985\\u09b8\\u09b9\\u09be\\u09df \\u09ae\\u09be\\u09a8\\u09c1\\u09b7\\u09c7\\u09b0 \\u0989\\u09aa\\u09b0 \\u099c\\u09c1\\u09b2\\u09c1\\u09ae \\u0995\\u09b0\\u09c7 \\u09a8\\u09bf\\u099c\\u09c7\\u09a6\\u09c7\\u09b0 \\u099c\\u09a8\\u09cd\\u09af \\u099f\\u09be\\u0995\\u09be\\u09b0 \\u09aa\\u09be\\u09b9\\u09be\\u09dc \\u09ac\\u09be\\u09a8\\u09be\\u09df \\u09b8\\u09c7 \\u09a6\\u09c7\\u09b6\\u09c7 \\u09a4\\u09cb \\u0986\\u09b2\\u09cd\\u09b2\\u09be\\u09b9\\u09b0 \\u09b0\\u09b9\\u09ae\\u09a4 \\u09a5\\u09be\\u0995\\u09c7 \\u09a8\\u09be\\u0964 \\u0986\\u09b2\\u09cd\\u09b2\\u09be\\u09b9 \\u099b\\u09be\\u09dc \\u09a6\\u09bf\\u099a\\u09cd\\u099b\\u09c7\\u09a8 \\u0995\\u09bf\\u09a8\\u09cd\\u09a4\\u09c1 \\u099b\\u09c7\\u09dc\\u09c7 \\u09a6\\u09c7\\u09ac\\u09c7 \\u09a8\\u09be\\u0964\"\n        ],\n        \"semantic_type\": \"\",\n        \"description\": \"\"\n      }\n    },\n    {\n      \"column\": \"Label\",\n      \"properties\": {\n        \"dtype\": \"category\",\n        \"num_unique_values\": 3,\n        \"samples\": [\n          \"positive\",\n          \"neutral\",\n          \"negative\"\n        ],\n        \"semantic_type\": \"\",\n        \"description\": \"\"\n      }\n    }\n  ]\n}"
            }
          },
          "metadata": {},
          "execution_count": 3
        }
      ]
    },
    {
      "cell_type": "code",
      "source": [
        "#train = df.drop(['Comment to English','Emoji to text' ,'prediction','max_sentiment_label','max_sentiment_value'],axis=1)"
      ],
      "metadata": {
        "execution": {
          "iopub.status.busy": "2024-06-07T15:39:13.749579Z",
          "iopub.execute_input": "2024-06-07T15:39:13.750126Z",
          "iopub.status.idle": "2024-06-07T15:39:13.761414Z",
          "shell.execute_reply.started": "2024-06-07T15:39:13.750083Z",
          "shell.execute_reply": "2024-06-07T15:39:13.760169Z"
        },
        "trusted": true,
        "id": "raiKDd2TXKeB"
      },
      "execution_count": null,
      "outputs": []
    },
    {
      "cell_type": "code",
      "source": [
        "import pandas as pd\n",
        "\n",
        "# Function to rename a single column\n",
        "def change_column_name(df, old_name, new_name):\n",
        "    df = df.rename(columns={old_name: new_name})\n",
        "    return df\n",
        "\n",
        "# Assuming df is your DataFrame\n",
        "df = change_column_name(df, old_name=\"Comments\", new_name=\"comment\")\n",
        "df = change_column_name(df, old_name=\"Label\", new_name=\"Compound to sentiment\")\n",
        "print(df.head())  # Display the first few rows of the DataFrame\n",
        "#text"
      ],
      "metadata": {
        "colab": {
          "base_uri": "https://localhost:8080/"
        },
        "id": "bICjkzo4aBT0",
        "outputId": "913e5f7a-4c31-4fe6-c89a-4b12d61206f0"
      },
      "execution_count": 6,
      "outputs": [
        {
          "output_type": "stream",
          "name": "stdout",
          "text": [
            "                                             comment Compound to sentiment\n",
            "0  তোমরা সবাই এই ভাই তাকে একটু  কোরোভিডিও গুলো দে...              positive\n",
            "1  🎯 ব্রহ্মপুত্র নদের ওপর নির্মিত ৯.১৫ কিলোমিটারে...              positive\n",
            "2         😊 ধন্যবাদ মাননীয় প্রধানমন্ত্রী শেখ হাসিনা              positive\n",
            "3                                2022 এর 25 এ জুন 🥰🥰               neutral\n",
            "4  অনুভূতিটা এত সুন্দর ভাষায় প্রকাশ করতে পারতেছি...              positive\n"
          ]
        }
      ]
    },
    {
      "cell_type": "code",
      "source": [
        "train=df\n",
        "train"
      ],
      "metadata": {
        "execution": {
          "iopub.status.busy": "2024-06-07T15:39:16.344650Z",
          "iopub.execute_input": "2024-06-07T15:39:16.345098Z",
          "iopub.status.idle": "2024-06-07T15:39:16.358307Z",
          "shell.execute_reply.started": "2024-06-07T15:39:16.345058Z",
          "shell.execute_reply": "2024-06-07T15:39:16.357144Z"
        },
        "trusted": true,
        "colab": {
          "base_uri": "https://localhost:8080/",
          "height": 423
        },
        "id": "MAKQKUNzXKeD",
        "outputId": "6b03ecc7-c9ca-4baa-c2ed-5f832ec3bd40"
      },
      "execution_count": 7,
      "outputs": [
        {
          "output_type": "execute_result",
          "data": {
            "text/plain": [
              "                                                comment Compound to sentiment\n",
              "0     তোমরা সবাই এই ভাই তাকে একটু  কোরোভিডিও গুলো দে...              positive\n",
              "1     🎯 ব্রহ্মপুত্র নদের ওপর নির্মিত ৯.১৫ কিলোমিটারে...              positive\n",
              "2            😊 ধন্যবাদ মাননীয় প্রধানমন্ত্রী শেখ হাসিনা              positive\n",
              "3                                   2022 এর 25 এ জুন 🥰🥰               neutral\n",
              "4     অনুভূতিটা এত সুন্দর ভাষায় প্রকাশ করতে পারতেছি...              positive\n",
              "...                                                 ...                   ...\n",
              "6370                         সব পিকাব বন্দ করে দেয়া হোক              negative\n",
              "6371  এটাতো গোটারি কথা কারণ কোরআনের বদলে গান বলে উদ্...               neutral\n",
              "6372                             এগুলা সব বিনপির এর কাজ               neutral\n",
              "6373                      এইবার ট্রাক বন্ধ করে দেয়া হোক              negative\n",
              "6374    কি হচ্ছে এসব!! আল্লাহ তায়ালা হেফাযত করুন!! আমিন              positive\n",
              "\n",
              "[6375 rows x 2 columns]"
            ],
            "text/html": [
              "\n",
              "  <div id=\"df-e17c4964-9f4c-44b0-9f76-13ae1a24bd23\" class=\"colab-df-container\">\n",
              "    <div>\n",
              "<style scoped>\n",
              "    .dataframe tbody tr th:only-of-type {\n",
              "        vertical-align: middle;\n",
              "    }\n",
              "\n",
              "    .dataframe tbody tr th {\n",
              "        vertical-align: top;\n",
              "    }\n",
              "\n",
              "    .dataframe thead th {\n",
              "        text-align: right;\n",
              "    }\n",
              "</style>\n",
              "<table border=\"1\" class=\"dataframe\">\n",
              "  <thead>\n",
              "    <tr style=\"text-align: right;\">\n",
              "      <th></th>\n",
              "      <th>comment</th>\n",
              "      <th>Compound to sentiment</th>\n",
              "    </tr>\n",
              "  </thead>\n",
              "  <tbody>\n",
              "    <tr>\n",
              "      <th>0</th>\n",
              "      <td>তোমরা সবাই এই ভাই তাকে একটু  কোরোভিডিও গুলো দে...</td>\n",
              "      <td>positive</td>\n",
              "    </tr>\n",
              "    <tr>\n",
              "      <th>1</th>\n",
              "      <td>🎯 ব্রহ্মপুত্র নদের ওপর নির্মিত ৯.১৫ কিলোমিটারে...</td>\n",
              "      <td>positive</td>\n",
              "    </tr>\n",
              "    <tr>\n",
              "      <th>2</th>\n",
              "      <td>😊 ধন্যবাদ মাননীয় প্রধানমন্ত্রী শেখ হাসিনা</td>\n",
              "      <td>positive</td>\n",
              "    </tr>\n",
              "    <tr>\n",
              "      <th>3</th>\n",
              "      <td>2022 এর 25 এ জুন 🥰🥰</td>\n",
              "      <td>neutral</td>\n",
              "    </tr>\n",
              "    <tr>\n",
              "      <th>4</th>\n",
              "      <td>অনুভূতিটা এত সুন্দর ভাষায় প্রকাশ করতে পারতেছি...</td>\n",
              "      <td>positive</td>\n",
              "    </tr>\n",
              "    <tr>\n",
              "      <th>...</th>\n",
              "      <td>...</td>\n",
              "      <td>...</td>\n",
              "    </tr>\n",
              "    <tr>\n",
              "      <th>6370</th>\n",
              "      <td>সব পিকাব বন্দ করে দেয়া হোক</td>\n",
              "      <td>negative</td>\n",
              "    </tr>\n",
              "    <tr>\n",
              "      <th>6371</th>\n",
              "      <td>এটাতো গোটারি কথা কারণ কোরআনের বদলে গান বলে উদ্...</td>\n",
              "      <td>neutral</td>\n",
              "    </tr>\n",
              "    <tr>\n",
              "      <th>6372</th>\n",
              "      <td>এগুলা সব বিনপির এর কাজ</td>\n",
              "      <td>neutral</td>\n",
              "    </tr>\n",
              "    <tr>\n",
              "      <th>6373</th>\n",
              "      <td>এইবার ট্রাক বন্ধ করে দেয়া হোক</td>\n",
              "      <td>negative</td>\n",
              "    </tr>\n",
              "    <tr>\n",
              "      <th>6374</th>\n",
              "      <td>কি হচ্ছে এসব!! আল্লাহ তায়ালা হেফাযত করুন!! আমিন</td>\n",
              "      <td>positive</td>\n",
              "    </tr>\n",
              "  </tbody>\n",
              "</table>\n",
              "<p>6375 rows × 2 columns</p>\n",
              "</div>\n",
              "    <div class=\"colab-df-buttons\">\n",
              "\n",
              "  <div class=\"colab-df-container\">\n",
              "    <button class=\"colab-df-convert\" onclick=\"convertToInteractive('df-e17c4964-9f4c-44b0-9f76-13ae1a24bd23')\"\n",
              "            title=\"Convert this dataframe to an interactive table.\"\n",
              "            style=\"display:none;\">\n",
              "\n",
              "  <svg xmlns=\"http://www.w3.org/2000/svg\" height=\"24px\" viewBox=\"0 -960 960 960\">\n",
              "    <path d=\"M120-120v-720h720v720H120Zm60-500h600v-160H180v160Zm220 220h160v-160H400v160Zm0 220h160v-160H400v160ZM180-400h160v-160H180v160Zm440 0h160v-160H620v160ZM180-180h160v-160H180v160Zm440 0h160v-160H620v160Z\"/>\n",
              "  </svg>\n",
              "    </button>\n",
              "\n",
              "  <style>\n",
              "    .colab-df-container {\n",
              "      display:flex;\n",
              "      gap: 12px;\n",
              "    }\n",
              "\n",
              "    .colab-df-convert {\n",
              "      background-color: #E8F0FE;\n",
              "      border: none;\n",
              "      border-radius: 50%;\n",
              "      cursor: pointer;\n",
              "      display: none;\n",
              "      fill: #1967D2;\n",
              "      height: 32px;\n",
              "      padding: 0 0 0 0;\n",
              "      width: 32px;\n",
              "    }\n",
              "\n",
              "    .colab-df-convert:hover {\n",
              "      background-color: #E2EBFA;\n",
              "      box-shadow: 0px 1px 2px rgba(60, 64, 67, 0.3), 0px 1px 3px 1px rgba(60, 64, 67, 0.15);\n",
              "      fill: #174EA6;\n",
              "    }\n",
              "\n",
              "    .colab-df-buttons div {\n",
              "      margin-bottom: 4px;\n",
              "    }\n",
              "\n",
              "    [theme=dark] .colab-df-convert {\n",
              "      background-color: #3B4455;\n",
              "      fill: #D2E3FC;\n",
              "    }\n",
              "\n",
              "    [theme=dark] .colab-df-convert:hover {\n",
              "      background-color: #434B5C;\n",
              "      box-shadow: 0px 1px 3px 1px rgba(0, 0, 0, 0.15);\n",
              "      filter: drop-shadow(0px 1px 2px rgba(0, 0, 0, 0.3));\n",
              "      fill: #FFFFFF;\n",
              "    }\n",
              "  </style>\n",
              "\n",
              "    <script>\n",
              "      const buttonEl =\n",
              "        document.querySelector('#df-e17c4964-9f4c-44b0-9f76-13ae1a24bd23 button.colab-df-convert');\n",
              "      buttonEl.style.display =\n",
              "        google.colab.kernel.accessAllowed ? 'block' : 'none';\n",
              "\n",
              "      async function convertToInteractive(key) {\n",
              "        const element = document.querySelector('#df-e17c4964-9f4c-44b0-9f76-13ae1a24bd23');\n",
              "        const dataTable =\n",
              "          await google.colab.kernel.invokeFunction('convertToInteractive',\n",
              "                                                    [key], {});\n",
              "        if (!dataTable) return;\n",
              "\n",
              "        const docLinkHtml = 'Like what you see? Visit the ' +\n",
              "          '<a target=\"_blank\" href=https://colab.research.google.com/notebooks/data_table.ipynb>data table notebook</a>'\n",
              "          + ' to learn more about interactive tables.';\n",
              "        element.innerHTML = '';\n",
              "        dataTable['output_type'] = 'display_data';\n",
              "        await google.colab.output.renderOutput(dataTable, element);\n",
              "        const docLink = document.createElement('div');\n",
              "        docLink.innerHTML = docLinkHtml;\n",
              "        element.appendChild(docLink);\n",
              "      }\n",
              "    </script>\n",
              "  </div>\n",
              "\n",
              "\n",
              "<div id=\"df-4a245611-f1de-4f1b-9afd-4dc55a10af73\">\n",
              "  <button class=\"colab-df-quickchart\" onclick=\"quickchart('df-4a245611-f1de-4f1b-9afd-4dc55a10af73')\"\n",
              "            title=\"Suggest charts\"\n",
              "            style=\"display:none;\">\n",
              "\n",
              "<svg xmlns=\"http://www.w3.org/2000/svg\" height=\"24px\"viewBox=\"0 0 24 24\"\n",
              "     width=\"24px\">\n",
              "    <g>\n",
              "        <path d=\"M19 3H5c-1.1 0-2 .9-2 2v14c0 1.1.9 2 2 2h14c1.1 0 2-.9 2-2V5c0-1.1-.9-2-2-2zM9 17H7v-7h2v7zm4 0h-2V7h2v10zm4 0h-2v-4h2v4z\"/>\n",
              "    </g>\n",
              "</svg>\n",
              "  </button>\n",
              "\n",
              "<style>\n",
              "  .colab-df-quickchart {\n",
              "      --bg-color: #E8F0FE;\n",
              "      --fill-color: #1967D2;\n",
              "      --hover-bg-color: #E2EBFA;\n",
              "      --hover-fill-color: #174EA6;\n",
              "      --disabled-fill-color: #AAA;\n",
              "      --disabled-bg-color: #DDD;\n",
              "  }\n",
              "\n",
              "  [theme=dark] .colab-df-quickchart {\n",
              "      --bg-color: #3B4455;\n",
              "      --fill-color: #D2E3FC;\n",
              "      --hover-bg-color: #434B5C;\n",
              "      --hover-fill-color: #FFFFFF;\n",
              "      --disabled-bg-color: #3B4455;\n",
              "      --disabled-fill-color: #666;\n",
              "  }\n",
              "\n",
              "  .colab-df-quickchart {\n",
              "    background-color: var(--bg-color);\n",
              "    border: none;\n",
              "    border-radius: 50%;\n",
              "    cursor: pointer;\n",
              "    display: none;\n",
              "    fill: var(--fill-color);\n",
              "    height: 32px;\n",
              "    padding: 0;\n",
              "    width: 32px;\n",
              "  }\n",
              "\n",
              "  .colab-df-quickchart:hover {\n",
              "    background-color: var(--hover-bg-color);\n",
              "    box-shadow: 0 1px 2px rgba(60, 64, 67, 0.3), 0 1px 3px 1px rgba(60, 64, 67, 0.15);\n",
              "    fill: var(--button-hover-fill-color);\n",
              "  }\n",
              "\n",
              "  .colab-df-quickchart-complete:disabled,\n",
              "  .colab-df-quickchart-complete:disabled:hover {\n",
              "    background-color: var(--disabled-bg-color);\n",
              "    fill: var(--disabled-fill-color);\n",
              "    box-shadow: none;\n",
              "  }\n",
              "\n",
              "  .colab-df-spinner {\n",
              "    border: 2px solid var(--fill-color);\n",
              "    border-color: transparent;\n",
              "    border-bottom-color: var(--fill-color);\n",
              "    animation:\n",
              "      spin 1s steps(1) infinite;\n",
              "  }\n",
              "\n",
              "  @keyframes spin {\n",
              "    0% {\n",
              "      border-color: transparent;\n",
              "      border-bottom-color: var(--fill-color);\n",
              "      border-left-color: var(--fill-color);\n",
              "    }\n",
              "    20% {\n",
              "      border-color: transparent;\n",
              "      border-left-color: var(--fill-color);\n",
              "      border-top-color: var(--fill-color);\n",
              "    }\n",
              "    30% {\n",
              "      border-color: transparent;\n",
              "      border-left-color: var(--fill-color);\n",
              "      border-top-color: var(--fill-color);\n",
              "      border-right-color: var(--fill-color);\n",
              "    }\n",
              "    40% {\n",
              "      border-color: transparent;\n",
              "      border-right-color: var(--fill-color);\n",
              "      border-top-color: var(--fill-color);\n",
              "    }\n",
              "    60% {\n",
              "      border-color: transparent;\n",
              "      border-right-color: var(--fill-color);\n",
              "    }\n",
              "    80% {\n",
              "      border-color: transparent;\n",
              "      border-right-color: var(--fill-color);\n",
              "      border-bottom-color: var(--fill-color);\n",
              "    }\n",
              "    90% {\n",
              "      border-color: transparent;\n",
              "      border-bottom-color: var(--fill-color);\n",
              "    }\n",
              "  }\n",
              "</style>\n",
              "\n",
              "  <script>\n",
              "    async function quickchart(key) {\n",
              "      const quickchartButtonEl =\n",
              "        document.querySelector('#' + key + ' button');\n",
              "      quickchartButtonEl.disabled = true;  // To prevent multiple clicks.\n",
              "      quickchartButtonEl.classList.add('colab-df-spinner');\n",
              "      try {\n",
              "        const charts = await google.colab.kernel.invokeFunction(\n",
              "            'suggestCharts', [key], {});\n",
              "      } catch (error) {\n",
              "        console.error('Error during call to suggestCharts:', error);\n",
              "      }\n",
              "      quickchartButtonEl.classList.remove('colab-df-spinner');\n",
              "      quickchartButtonEl.classList.add('colab-df-quickchart-complete');\n",
              "    }\n",
              "    (() => {\n",
              "      let quickchartButtonEl =\n",
              "        document.querySelector('#df-4a245611-f1de-4f1b-9afd-4dc55a10af73 button');\n",
              "      quickchartButtonEl.style.display =\n",
              "        google.colab.kernel.accessAllowed ? 'block' : 'none';\n",
              "    })();\n",
              "  </script>\n",
              "</div>\n",
              "\n",
              "  <div id=\"id_033b6174-5f8a-4612-8bc7-884ab9e4e887\">\n",
              "    <style>\n",
              "      .colab-df-generate {\n",
              "        background-color: #E8F0FE;\n",
              "        border: none;\n",
              "        border-radius: 50%;\n",
              "        cursor: pointer;\n",
              "        display: none;\n",
              "        fill: #1967D2;\n",
              "        height: 32px;\n",
              "        padding: 0 0 0 0;\n",
              "        width: 32px;\n",
              "      }\n",
              "\n",
              "      .colab-df-generate:hover {\n",
              "        background-color: #E2EBFA;\n",
              "        box-shadow: 0px 1px 2px rgba(60, 64, 67, 0.3), 0px 1px 3px 1px rgba(60, 64, 67, 0.15);\n",
              "        fill: #174EA6;\n",
              "      }\n",
              "\n",
              "      [theme=dark] .colab-df-generate {\n",
              "        background-color: #3B4455;\n",
              "        fill: #D2E3FC;\n",
              "      }\n",
              "\n",
              "      [theme=dark] .colab-df-generate:hover {\n",
              "        background-color: #434B5C;\n",
              "        box-shadow: 0px 1px 3px 1px rgba(0, 0, 0, 0.15);\n",
              "        filter: drop-shadow(0px 1px 2px rgba(0, 0, 0, 0.3));\n",
              "        fill: #FFFFFF;\n",
              "      }\n",
              "    </style>\n",
              "    <button class=\"colab-df-generate\" onclick=\"generateWithVariable('df')\"\n",
              "            title=\"Generate code using this dataframe.\"\n",
              "            style=\"display:none;\">\n",
              "\n",
              "  <svg xmlns=\"http://www.w3.org/2000/svg\" height=\"24px\"viewBox=\"0 0 24 24\"\n",
              "       width=\"24px\">\n",
              "    <path d=\"M7,19H8.4L18.45,9,17,7.55,7,17.6ZM5,21V16.75L18.45,3.32a2,2,0,0,1,2.83,0l1.4,1.43a1.91,1.91,0,0,1,.58,1.4,1.91,1.91,0,0,1-.58,1.4L9.25,21ZM18.45,9,17,7.55Zm-12,3A5.31,5.31,0,0,0,4.9,8.1,5.31,5.31,0,0,0,1,6.5,5.31,5.31,0,0,0,4.9,4.9,5.31,5.31,0,0,0,6.5,1,5.31,5.31,0,0,0,8.1,4.9,5.31,5.31,0,0,0,12,6.5,5.46,5.46,0,0,0,6.5,12Z\"/>\n",
              "  </svg>\n",
              "    </button>\n",
              "    <script>\n",
              "      (() => {\n",
              "      const buttonEl =\n",
              "        document.querySelector('#id_033b6174-5f8a-4612-8bc7-884ab9e4e887 button.colab-df-generate');\n",
              "      buttonEl.style.display =\n",
              "        google.colab.kernel.accessAllowed ? 'block' : 'none';\n",
              "\n",
              "      buttonEl.onclick = () => {\n",
              "        google.colab.notebook.generateWithVariable('df');\n",
              "      }\n",
              "      })();\n",
              "    </script>\n",
              "  </div>\n",
              "\n",
              "    </div>\n",
              "  </div>\n"
            ],
            "application/vnd.google.colaboratory.intrinsic+json": {
              "type": "dataframe",
              "variable_name": "df",
              "summary": "{\n  \"name\": \"df\",\n  \"rows\": 6375,\n  \"fields\": [\n    {\n      \"column\": \"comment\",\n      \"properties\": {\n        \"dtype\": \"string\",\n        \"num_unique_values\": 6375,\n        \"samples\": [\n          \"\\u0986\\u0993\\u09df\\u09be\\u09ae\\u09c0\\u09b2\\u09c0\\u0997\\u09c7\\u09b0 \\u0986\\u09b0\\u09c7\\u0995 \\u09a8\\u09be\\u09ae \\u09b6\\u09c7\\u0996 \\u09b9\\u09be\\u09b8\\u09bf\\u09a8\\u09be\\u09b0 \\u0989\\u09a8\\u09cd\\u09a8\\u09af\\u09bc\\u09a8\\u0964 \\u0986\\u09aa\\u09be, \\u0986\\u09aa\\u09be, \\u0986\\u09aa\\u09be \\u0995\\u09bf \\u0995\\u09b0\\u09c7 \\u0997\\u09c7\\u099b\\u09c7\\u09a8 \\u09b8\\u09ac\\u09be\\u0987 \\u099c\\u09be\\u09a8\\u09c7 \\u0997\\u09c7\\u099b\\u09c7\\u0964\",\n          \"\\u0986\\u09b2\\u09cd\\u09b2\\u09be\\u09b9 \\u0986\\u09aa\\u09a8\\u09bf \\u09b8\\u09ac\\u09be\\u0987\\u0995\\u09c7 \\u09b9\\u09c7\\u09ab\\u09be\\u099c\\u09a4 \\u0995\\u09b0\\u09c7\\u09a8 \\u0986\\u09b2\\u09cd\\u09b2\\u09be\\u09b9\\u09c1\\u09ae\\u09cd\\u09ae\\u09be \\u0986\\u09ae\\u09bf\\u09a8\",\n          \"\\u09a6\\u09c1\\u09b0\\u09cd\\u0998\\u099f\\u09a8\\u09be \\u09a4\\u09cb \\u0998\\u099f\\u09ac\\u09c7\\u0987... \\u0986\\u09b2\\u09cd\\u09b2\\u09be\\u09b9 \\u09a8\\u09be\\u09b0\\u09be\\u099c \\u09b8\\u09ac\\u09be\\u09b0 \\u0989\\u09aa\\u09b0\\u09c7\\u0964 \\u09af\\u09c7 \\u09a6\\u09c7\\u09b6\\u09c7 \\u098f\\u09ae\\u09a8 \\u09b0\\u09be\\u0995\\u09cd\\u09b7\\u09b8\\u09c0 \\u09ae\\u09a8\\u09cd\\u09a4\\u09cd\\u09b0\\u09c0 \\u09a5\\u09be\\u0995\\u09c7 \\u09af\\u09c7 \\u09a6\\u09c7\\u09b6\\u09c7 \\u0997\\u09b0\\u09c0\\u09ac \\u09ae\\u09be\\u09a8\\u09c1\\u09b7\\u09c7\\u09b0 \\u09b9\\u0995 \\u09a0\\u0995\\u09be\\u09df \\u0985\\u09b8\\u09b9\\u09be\\u09df \\u09ae\\u09be\\u09a8\\u09c1\\u09b7\\u09c7\\u09b0 \\u0989\\u09aa\\u09b0 \\u099c\\u09c1\\u09b2\\u09c1\\u09ae \\u0995\\u09b0\\u09c7 \\u09a8\\u09bf\\u099c\\u09c7\\u09a6\\u09c7\\u09b0 \\u099c\\u09a8\\u09cd\\u09af \\u099f\\u09be\\u0995\\u09be\\u09b0 \\u09aa\\u09be\\u09b9\\u09be\\u09dc \\u09ac\\u09be\\u09a8\\u09be\\u09df \\u09b8\\u09c7 \\u09a6\\u09c7\\u09b6\\u09c7 \\u09a4\\u09cb \\u0986\\u09b2\\u09cd\\u09b2\\u09be\\u09b9\\u09b0 \\u09b0\\u09b9\\u09ae\\u09a4 \\u09a5\\u09be\\u0995\\u09c7 \\u09a8\\u09be\\u0964 \\u0986\\u09b2\\u09cd\\u09b2\\u09be\\u09b9 \\u099b\\u09be\\u09dc \\u09a6\\u09bf\\u099a\\u09cd\\u099b\\u09c7\\u09a8 \\u0995\\u09bf\\u09a8\\u09cd\\u09a4\\u09c1 \\u099b\\u09c7\\u09dc\\u09c7 \\u09a6\\u09c7\\u09ac\\u09c7 \\u09a8\\u09be\\u0964\"\n        ],\n        \"semantic_type\": \"\",\n        \"description\": \"\"\n      }\n    },\n    {\n      \"column\": \"Compound to sentiment\",\n      \"properties\": {\n        \"dtype\": \"category\",\n        \"num_unique_values\": 3,\n        \"samples\": [\n          \"positive\",\n          \"neutral\",\n          \"negative\"\n        ],\n        \"semantic_type\": \"\",\n        \"description\": \"\"\n      }\n    }\n  ]\n}"
            }
          },
          "metadata": {},
          "execution_count": 7
        }
      ]
    },
    {
      "cell_type": "markdown",
      "source": [
        "# Data Preprocessing"
      ],
      "metadata": {
        "id": "2Zw4nv80XKeE"
      }
    },
    {
      "cell_type": "raw",
      "source": [
        "So we have to clean all the tweets which includes\n",
        "filling missing vlaues\n",
        "convert text to lowercase\n",
        "remove mentions\n",
        "remove hashes\n",
        "remove new line characters\n",
        "remove single quotes\n",
        "remove hyperlinks\n",
        "remove punctuations\n",
        "remove stopwords. Stopwords means small words like I, you, is, just etc"
      ],
      "metadata": {
        "id": "1_kf3WUuXKeF"
      }
    },
    {
      "cell_type": "code",
      "source": [
        "#train.selected_text.fillna('comment',inplace=True)"
      ],
      "metadata": {
        "execution": {
          "iopub.status.busy": "2024-06-07T15:40:02.615773Z",
          "iopub.execute_input": "2024-06-07T15:40:02.616227Z",
          "iopub.status.idle": "2024-06-07T15:40:02.622062Z",
          "shell.execute_reply.started": "2024-06-07T15:40:02.616191Z",
          "shell.execute_reply": "2024-06-07T15:40:02.620564Z"
        },
        "trusted": true,
        "id": "na5ijhVCXKeF"
      },
      "execution_count": null,
      "outputs": []
    },
    {
      "cell_type": "code",
      "source": [
        "# def cleantext(text):\n",
        "#     text = re.sub(r'@[A-Za-z0-9]+','', text) #remove mentions\n",
        "#     text = re.sub(r'#','', text) #remove hash\n",
        "#     text = re.sub(r'https?:\\/\\/\\S+', '', text) #remove hyperlink\n",
        "#     text = re.sub('\\s+', ' ', text) #remove new line char\n",
        "#     text = re.sub(\"\\'\", \"\", text) #remove single quotes\n",
        "\n",
        "#     return text"
      ],
      "metadata": {
        "execution": {
          "iopub.status.busy": "2024-06-06T16:11:22.469905Z",
          "iopub.execute_input": "2024-06-06T16:11:22.470444Z",
          "iopub.status.idle": "2024-06-06T16:11:22.482196Z",
          "shell.execute_reply.started": "2024-06-06T16:11:22.470399Z",
          "shell.execute_reply": "2024-06-06T16:11:22.480792Z"
        },
        "trusted": true,
        "id": "k0ENSlhfXKeF"
      },
      "execution_count": null,
      "outputs": []
    },
    {
      "cell_type": "code",
      "source": [
        "import re\n",
        "\n",
        "def cleantext(text):\n",
        "    text = re.sub(r'@[\\u0980-\\u09FF]+', '', text)  # remove Bangla mentions\n",
        "    text = re.sub(r'#', '', text)  # remove hash\n",
        "    text = re.sub(r'https?:\\/\\/\\S+', '', text)  # remove hyperlink\n",
        "    text = re.sub(r'\\s+', ' ', text)  # remove new line char\n",
        "    text = re.sub(r\"'\", '', text)  # remove single quotes\n",
        "\n",
        "    return text\n"
      ],
      "metadata": {
        "execution": {
          "iopub.status.busy": "2024-06-07T15:41:59.740529Z",
          "iopub.execute_input": "2024-06-07T15:41:59.741047Z",
          "iopub.status.idle": "2024-06-07T15:41:59.749092Z",
          "shell.execute_reply.started": "2024-06-07T15:41:59.740990Z",
          "shell.execute_reply": "2024-06-07T15:41:59.747569Z"
        },
        "trusted": true,
        "id": "COfVxIYKXKeG"
      },
      "execution_count": 8,
      "outputs": []
    },
    {
      "cell_type": "code",
      "source": [
        "train[\"comment\"] = train[\"comment\"].apply(cleantext)"
      ],
      "metadata": {
        "execution": {
          "iopub.status.busy": "2024-06-07T15:42:45.544251Z",
          "iopub.execute_input": "2024-06-07T15:42:45.544692Z",
          "iopub.status.idle": "2024-06-07T15:42:45.577494Z",
          "shell.execute_reply.started": "2024-06-07T15:42:45.544653Z",
          "shell.execute_reply": "2024-06-07T15:42:45.576276Z"
        },
        "trusted": true,
        "id": "H0439XKjXKeG"
      },
      "execution_count": 9,
      "outputs": []
    },
    {
      "cell_type": "code",
      "source": [
        "train[\"comment\"].head(15)"
      ],
      "metadata": {
        "execution": {
          "iopub.status.busy": "2024-06-07T15:42:47.920628Z",
          "iopub.execute_input": "2024-06-07T15:42:47.921096Z",
          "iopub.status.idle": "2024-06-07T15:42:47.930996Z",
          "shell.execute_reply.started": "2024-06-07T15:42:47.921035Z",
          "shell.execute_reply": "2024-06-07T15:42:47.929478Z"
        },
        "trusted": true,
        "colab": {
          "base_uri": "https://localhost:8080/",
          "height": 554
        },
        "id": "w7WVmzlmXKeG",
        "outputId": "82004323-50b3-466e-ef88-12b3dd867414"
      },
      "execution_count": 10,
      "outputs": [
        {
          "output_type": "execute_result",
          "data": {
            "text/plain": [
              "0     তোমরা সবাই এই ভাই তাকে একটু কোরোভিডিও গুলো দেখ...\n",
              "1     🎯 ব্রহ্মপুত্র নদের ওপর নির্মিত ৯.১৫ কিলোমিটারে...\n",
              "2            😊 ধন্যবাদ মাননীয় প্রধানমন্ত্রী শেখ হাসিনা\n",
              "3                                   2022 এর 25 এ জুন 🥰🥰\n",
              "4     অনুভূতিটা এত সুন্দর ভাষায় প্রকাশ করতে পারতেছি...\n",
              "5                               অনেক কষ্টের ফসল ধন্যবাদ\n",
              "6                                      অনেক সুন্দর হইছে\n",
              "7                  অভিনন্দন প্রদান মন্ত্রী 🇧🇩❤️🇧🇩❤️🇧🇩❤️\n",
              "8                                         অসাধারণ দৃশ্য\n",
              "9     আচ্ছা আমি কোন এক নিউজে শুনেছিলাম যে পদ্মা সেতু...\n",
              "10    আমরা মুক্তিযদ্ধ দেখিনি! কিন্তু তাতে কি হয়েছে প...\n",
              "11                                 আমাদের অহংকারের সেতু\n",
              "12                                  আমি যদি মেতে পারতাম\n",
              "13       আমি শুধু দেখেই যাচ্ছি,খুব ভালো একটা কাজ করেছে।\n",
              "14                                       আলহামদুলিল্লাহ\n",
              "Name: comment, dtype: object"
            ],
            "text/html": [
              "<div>\n",
              "<style scoped>\n",
              "    .dataframe tbody tr th:only-of-type {\n",
              "        vertical-align: middle;\n",
              "    }\n",
              "\n",
              "    .dataframe tbody tr th {\n",
              "        vertical-align: top;\n",
              "    }\n",
              "\n",
              "    .dataframe thead th {\n",
              "        text-align: right;\n",
              "    }\n",
              "</style>\n",
              "<table border=\"1\" class=\"dataframe\">\n",
              "  <thead>\n",
              "    <tr style=\"text-align: right;\">\n",
              "      <th></th>\n",
              "      <th>comment</th>\n",
              "    </tr>\n",
              "  </thead>\n",
              "  <tbody>\n",
              "    <tr>\n",
              "      <th>0</th>\n",
              "      <td>তোমরা সবাই এই ভাই তাকে একটু কোরোভিডিও গুলো দেখ...</td>\n",
              "    </tr>\n",
              "    <tr>\n",
              "      <th>1</th>\n",
              "      <td>🎯 ব্রহ্মপুত্র নদের ওপর নির্মিত ৯.১৫ কিলোমিটারে...</td>\n",
              "    </tr>\n",
              "    <tr>\n",
              "      <th>2</th>\n",
              "      <td>😊 ধন্যবাদ মাননীয় প্রধানমন্ত্রী শেখ হাসিনা</td>\n",
              "    </tr>\n",
              "    <tr>\n",
              "      <th>3</th>\n",
              "      <td>2022 এর 25 এ জুন 🥰🥰</td>\n",
              "    </tr>\n",
              "    <tr>\n",
              "      <th>4</th>\n",
              "      <td>অনুভূতিটা এত সুন্দর ভাষায় প্রকাশ করতে পারতেছি...</td>\n",
              "    </tr>\n",
              "    <tr>\n",
              "      <th>5</th>\n",
              "      <td>অনেক কষ্টের ফসল ধন্যবাদ</td>\n",
              "    </tr>\n",
              "    <tr>\n",
              "      <th>6</th>\n",
              "      <td>অনেক সুন্দর হইছে</td>\n",
              "    </tr>\n",
              "    <tr>\n",
              "      <th>7</th>\n",
              "      <td>অভিনন্দন প্রদান মন্ত্রী 🇧🇩❤️🇧🇩❤️🇧🇩❤️</td>\n",
              "    </tr>\n",
              "    <tr>\n",
              "      <th>8</th>\n",
              "      <td>অসাধারণ দৃশ্য</td>\n",
              "    </tr>\n",
              "    <tr>\n",
              "      <th>9</th>\n",
              "      <td>আচ্ছা আমি কোন এক নিউজে শুনেছিলাম যে পদ্মা সেতু...</td>\n",
              "    </tr>\n",
              "    <tr>\n",
              "      <th>10</th>\n",
              "      <td>আমরা মুক্তিযদ্ধ দেখিনি! কিন্তু তাতে কি হয়েছে প...</td>\n",
              "    </tr>\n",
              "    <tr>\n",
              "      <th>11</th>\n",
              "      <td>আমাদের অহংকারের সেতু</td>\n",
              "    </tr>\n",
              "    <tr>\n",
              "      <th>12</th>\n",
              "      <td>আমি যদি মেতে পারতাম</td>\n",
              "    </tr>\n",
              "    <tr>\n",
              "      <th>13</th>\n",
              "      <td>আমি শুধু দেখেই যাচ্ছি,খুব ভালো একটা কাজ করেছে।</td>\n",
              "    </tr>\n",
              "    <tr>\n",
              "      <th>14</th>\n",
              "      <td>আলহামদুলিল্লাহ</td>\n",
              "    </tr>\n",
              "  </tbody>\n",
              "</table>\n",
              "</div><br><label><b>dtype:</b> object</label>"
            ]
          },
          "metadata": {},
          "execution_count": 10
        }
      ]
    },
    {
      "cell_type": "code",
      "source": [
        "import string\n",
        "train[\"comment\"] = train[\"comment\"].apply(lambda wrd:[ltrs.lower() for ltrs in wrd if ltrs not in string.punctuation])"
      ],
      "metadata": {
        "execution": {
          "iopub.status.busy": "2024-06-07T15:46:15.830928Z",
          "iopub.execute_input": "2024-06-07T15:46:15.831381Z",
          "iopub.status.idle": "2024-06-07T15:46:15.880487Z",
          "shell.execute_reply.started": "2024-06-07T15:46:15.831347Z",
          "shell.execute_reply": "2024-06-07T15:46:15.879164Z"
        },
        "trusted": true,
        "id": "7ksZJJvOXKeG"
      },
      "execution_count": 11,
      "outputs": []
    },
    {
      "cell_type": "code",
      "source": [
        "train[\"comment\"] = train[\"comment\"].apply(lambda wrd: ''.join(wrd))"
      ],
      "metadata": {
        "execution": {
          "iopub.status.busy": "2024-06-07T15:46:22.427185Z",
          "iopub.execute_input": "2024-06-07T15:46:22.427593Z",
          "iopub.status.idle": "2024-06-07T15:46:22.442113Z",
          "shell.execute_reply.started": "2024-06-07T15:46:22.427560Z",
          "shell.execute_reply": "2024-06-07T15:46:22.440881Z"
        },
        "trusted": true,
        "id": "1GvHXBpFXKeG"
      },
      "execution_count": 12,
      "outputs": []
    },
    {
      "cell_type": "code",
      "source": [
        "train[\"comment\"]"
      ],
      "metadata": {
        "execution": {
          "iopub.status.busy": "2024-06-07T15:46:25.573335Z",
          "iopub.execute_input": "2024-06-07T15:46:25.573812Z",
          "iopub.status.idle": "2024-06-07T15:46:25.583440Z",
          "shell.execute_reply.started": "2024-06-07T15:46:25.573770Z",
          "shell.execute_reply": "2024-06-07T15:46:25.582123Z"
        },
        "trusted": true,
        "colab": {
          "base_uri": "https://localhost:8080/",
          "height": 458
        },
        "id": "I-1YQJCRXKeG",
        "outputId": "362dfb85-f09f-4bf4-878e-3fef944ff969"
      },
      "execution_count": 13,
      "outputs": [
        {
          "output_type": "execute_result",
          "data": {
            "text/plain": [
              "0       তোমরা সবাই এই ভাই তাকে একটু কোরোভিডিও গুলো দেখ...\n",
              "1       🎯 ব্রহ্মপুত্র নদের ওপর নির্মিত ৯১৫ কিলোমিটারের...\n",
              "2              😊 ধন্যবাদ মাননীয় প্রধানমন্ত্রী শেখ হাসিনা\n",
              "3                                     2022 এর 25 এ জুন 🥰🥰\n",
              "4       অনুভূতিটা এত সুন্দর ভাষায় প্রকাশ করতে পারতেছি...\n",
              "                              ...                        \n",
              "6370                           সব পিকাব বন্দ করে দেয়া হোক\n",
              "6371    এটাতো গোটারি কথা কারণ কোরআনের বদলে গান বলে উদ্...\n",
              "6372                               এগুলা সব বিনপির এর কাজ\n",
              "6373                        এইবার ট্রাক বন্ধ করে দেয়া হোক\n",
              "6374          কি হচ্ছে এসব আল্লাহ তায়ালা হেফাযত করুন আমিন\n",
              "Name: comment, Length: 6375, dtype: object"
            ],
            "text/html": [
              "<div>\n",
              "<style scoped>\n",
              "    .dataframe tbody tr th:only-of-type {\n",
              "        vertical-align: middle;\n",
              "    }\n",
              "\n",
              "    .dataframe tbody tr th {\n",
              "        vertical-align: top;\n",
              "    }\n",
              "\n",
              "    .dataframe thead th {\n",
              "        text-align: right;\n",
              "    }\n",
              "</style>\n",
              "<table border=\"1\" class=\"dataframe\">\n",
              "  <thead>\n",
              "    <tr style=\"text-align: right;\">\n",
              "      <th></th>\n",
              "      <th>comment</th>\n",
              "    </tr>\n",
              "  </thead>\n",
              "  <tbody>\n",
              "    <tr>\n",
              "      <th>0</th>\n",
              "      <td>তোমরা সবাই এই ভাই তাকে একটু কোরোভিডিও গুলো দেখ...</td>\n",
              "    </tr>\n",
              "    <tr>\n",
              "      <th>1</th>\n",
              "      <td>🎯 ব্রহ্মপুত্র নদের ওপর নির্মিত ৯১৫ কিলোমিটারের...</td>\n",
              "    </tr>\n",
              "    <tr>\n",
              "      <th>2</th>\n",
              "      <td>😊 ধন্যবাদ মাননীয় প্রধানমন্ত্রী শেখ হাসিনা</td>\n",
              "    </tr>\n",
              "    <tr>\n",
              "      <th>3</th>\n",
              "      <td>2022 এর 25 এ জুন 🥰🥰</td>\n",
              "    </tr>\n",
              "    <tr>\n",
              "      <th>4</th>\n",
              "      <td>অনুভূতিটা এত সুন্দর ভাষায় প্রকাশ করতে পারতেছি...</td>\n",
              "    </tr>\n",
              "    <tr>\n",
              "      <th>...</th>\n",
              "      <td>...</td>\n",
              "    </tr>\n",
              "    <tr>\n",
              "      <th>6370</th>\n",
              "      <td>সব পিকাব বন্দ করে দেয়া হোক</td>\n",
              "    </tr>\n",
              "    <tr>\n",
              "      <th>6371</th>\n",
              "      <td>এটাতো গোটারি কথা কারণ কোরআনের বদলে গান বলে উদ্...</td>\n",
              "    </tr>\n",
              "    <tr>\n",
              "      <th>6372</th>\n",
              "      <td>এগুলা সব বিনপির এর কাজ</td>\n",
              "    </tr>\n",
              "    <tr>\n",
              "      <th>6373</th>\n",
              "      <td>এইবার ট্রাক বন্ধ করে দেয়া হোক</td>\n",
              "    </tr>\n",
              "    <tr>\n",
              "      <th>6374</th>\n",
              "      <td>কি হচ্ছে এসব আল্লাহ তায়ালা হেফাযত করুন আমিন</td>\n",
              "    </tr>\n",
              "  </tbody>\n",
              "</table>\n",
              "<p>6375 rows × 1 columns</p>\n",
              "</div><br><label><b>dtype:</b> object</label>"
            ]
          },
          "metadata": {},
          "execution_count": 13
        }
      ]
    },
    {
      "cell_type": "code",
      "source": [
        "from nltk.corpus import stopwords"
      ],
      "metadata": {
        "execution": {
          "iopub.status.busy": "2024-06-06T16:11:23.305170Z",
          "iopub.execute_input": "2024-06-06T16:11:23.306157Z",
          "iopub.status.idle": "2024-06-06T16:11:25.395875Z",
          "shell.execute_reply.started": "2024-06-06T16:11:23.306099Z",
          "shell.execute_reply": "2024-06-06T16:11:25.394407Z"
        },
        "trusted": true,
        "id": "LC0V93wPXKeH"
      },
      "execution_count": 14,
      "outputs": []
    },
    {
      "cell_type": "code",
      "source": [
        "import pandas as pd\n",
        "import re\n",
        "\n",
        "# Example list of Bangla stopwords (this list should be extended for better accuracy)\n",
        "bangla_stopwords = [\n",
        "    'এ', 'ও', 'তাতে', 'কখন', 'কিন্তু', 'কিংবা', 'কি', 'কী', 'কে', 'কেন',\n",
        "    'খুব', 'গিয়ে', 'গিয়েছে', 'গেলে', 'গো', 'চলে', 'থাকতে',\n",
        "    'থেকে', 'থেকে', 'থেকে', 'দেওয়া', 'দিয়ে', 'দুই', 'দুটি', 'দুঃখিত',\n",
        "    'দে', 'দেখা', 'দেওয়া', 'ধরা', 'ধরার', 'ধরে', 'নয়', 'না', 'নাকি',\n",
        "    'নি', 'নিয়ে', 'নিবে', 'নিয়েছে', 'নিয়ে', 'নীচে', 'পরে', 'পরে',\n",
        "    'পর্যন্ত', 'পর্যন্ত', 'পেয়ে', 'পেয়ে', 'পি', 'প্রতি', 'ফিরে',\n",
        "    'বসে', 'বলল', 'বললো', 'বললেন', 'বলে', 'বলেন', 'বসে', 'বসে', 'বা',\n",
        "    'বাড়ি', 'ভাবে', 'মধ্যে', 'মধ্যেই', 'যখন', 'যদি', 'যা', 'যায়',\n",
        "    'যিনি', 'যাবে', 'যা', 'যাও', 'যাদের', 'যে', 'যেমন', 'যেখানে',\n",
        "    'যিনি', 'যে', 'রয়েছে', 'রাখা', 'রাখে', 'রয়েছে', 'লেখা', 'লাগে',\n",
        "    'শুরু', 'শুধু', 'সব', 'সময়', 'সবার', 'সে', 'স্পষ্ট', 'সেই',\n",
        "    'সেখান', 'সেখানে', 'হয়', 'হলে', 'হল', 'হলো', 'হলেই', 'হিসাবে',\n",
        "    'হৈ', 'হয়', 'হয়ে', 'হয়নি', 'হলেও', 'হয়', 'হয়েছে', 'হয়েছিল',\n",
        "    'হয়ে', 'হয়', 'হলেই', 'হয়ে', 'হয়', 'হলেও'\n",
        "]\n",
        "\n",
        "def remove_stopwords_bangla(text):\n",
        "    words = text.split()\n",
        "    filtered_words = [word for word in words if word not in bangla_stopwords]\n",
        "    return ' '.join(filtered_words)\n",
        "\n",
        "\n",
        "\n",
        "# Apply the function to the first 50 rows (or fewer if the DataFrame has less than 50 rows)\n",
        "train['comment'][:50] = train['comment'][:50].apply(remove_stopwords_bangla)\n",
        "\n",
        "# Display the cleaned text\n",
        "print(train['comment'][:50])\n"
      ],
      "metadata": {
        "execution": {
          "iopub.status.busy": "2024-06-07T15:46:37.314695Z",
          "iopub.execute_input": "2024-06-07T15:46:37.315123Z",
          "iopub.status.idle": "2024-06-07T15:46:37.332335Z",
          "shell.execute_reply.started": "2024-06-07T15:46:37.315090Z",
          "shell.execute_reply": "2024-06-07T15:46:37.331077Z"
        },
        "trusted": true,
        "colab": {
          "base_uri": "https://localhost:8080/"
        },
        "id": "9DVz905hXKeH",
        "outputId": "daa43da6-53aa-4d78-d22c-90f7fae90520"
      },
      "execution_count": 15,
      "outputs": [
        {
          "output_type": "stream",
          "name": "stdout",
          "text": [
            "0     তোমরা সবাই এই ভাই তাকে একটু কোরোভিডিও গুলো দেখ...\n",
            "1     🎯 ব্রহ্মপুত্র নদের ওপর নির্মিত ৯১৫ কিলোমিটারের...\n",
            "2            😊 ধন্যবাদ মাননীয় প্রধানমন্ত্রী শেখ হাসিনা\n",
            "3                                     2022 এর 25 জুন 🥰🥰\n",
            "4     অনুভূতিটা এত সুন্দর ভাষায় প্রকাশ করতে পারতেছি...\n",
            "5                               অনেক কষ্টের ফসল ধন্যবাদ\n",
            "6                                      অনেক সুন্দর হইছে\n",
            "7                  অভিনন্দন প্রদান মন্ত্রী 🇧🇩❤️🇧🇩❤️🇧🇩❤️\n",
            "8                                         অসাধারণ দৃশ্য\n",
            "9     আচ্ছা আমি কোন এক নিউজে শুনেছিলাম পদ্মা সেতুতে ...\n",
            "10    আমরা মুক্তিযদ্ধ দেখিনি হয়েছে পদ্মা সেতুর উদ্বো...\n",
            "11                                 আমাদের অহংকারের সেতু\n",
            "12                                      আমি মেতে পারতাম\n",
            "13             আমি দেখেই যাচ্ছিখুব ভালো একটা কাজ করেছে।\n",
            "14                                       আলহামদুলিল্লাহ\n",
            "15                                     আলহামদুলিল্লাহ 💖\n",
            "16    আলহামদুলিল্লাহ ইয়া আল্লাহ আপনি আমাদের মাননীয়...\n",
            "17         আলহামদুলিল্লাহ একটা নতুন অধ্যায় যোগ বাংলাদেশ\n",
            "18    আলহামদুলিল্লাহ্ অপূর্ব দৃশ্য এই দিন টির জন্য ক...\n",
            "19         আশংকা হচ্ছে এখানে আবার সবুজ রঙের রড দেয়নি তো\n",
            "20    এক্ষণ গাড়িতে করে যাবো কোনো বাধা ছাড়াধন্যবাদ ...\n",
            "21      এখন আমরা দেখতে চাই পাটুরিয়া ঘাটে আরেক পদ্ম সেতু\n",
            "22                             এগিয়ে যাক অামাদের দেশ 🇧🇩\n",
            "23    এতো তাড়াতাড়ি শেষ আরো দুর্নীতি করে । ব্যাংক ভ...\n",
            "24                                               ঐচ্ছিক\n",
            "25    কলকাতা পদ্মা সেতু হয়ে ঢাকা যেতে এখন মাত্র ৬৭ ঘ...\n",
            "26    কালকে ফেরি আটকানো কারনে এক বাচা মারা জায় মিডিয়...\n",
            "27    কিছুটা দেরিতে এটা বাংলাদেশের জন্য বিশাল অর্জন।...\n",
            "28                                  খুশিতে কান্না এসেছে\n",
            "29                                         সুন্দর হয়েছে\n",
            "30                              সুন্দর পদ্মা সেতু 🇮🇳 ❤️\n",
            "31    চীনের টাকায় ব্রিজ বানিয়ে বাংলাদেশ বরং দুচারটে ...\n",
            "32    জাজিরা প্রান্তের লোকজন যারা ঢাকায় বাসা ভাড়া ...\n",
            "33    জাস্ট ওয়াওধন্যবাদ মাননীয় প্রধানমন্ত্রী শেখ হাসিনা\n",
            "34                               জ্যাম কেমন টোল প্লাজায়\n",
            "35    টেনশনে আছি আমাদের দেশের কিছু অসব্য মানুষ আছে ত...\n",
            "36    ডিস্টার্বের মৃল কারণ যমুনা টিভি টা মাঝখানে ইউট...\n",
            "37                                             ডোন দিয়ে\n",
            "38                           দেখতে সুন্দর দেখাচ্ছে ❤❤❤❤\n",
            "39                       দেখলে অনুভূতিতে চোখের পানি আসে\n",
            "40    ধন্যবাদ মাননীয় প্রধানমন্ত্রী 🥰🖤আপনার দীর্ঘ আয়ু...\n",
            "41    পদ্মা সেতু নিয়ে এত নিউজ করে হবে যদিনা যাত্রিরা...\n",
            "42                                           পদ্মা সেতু\n",
            "43    পদ্মা সেতু একটি সেতুই নয়এটি আমাদের এক একটি হা...\n",
            "44    পদ্মা সেতু অনেক সুন্দর হয়েছে শরিয়ত পুরের কোনো ...\n",
            "45                   পদ্মা সেতু আমাদের বাংলাদেশের গর্ব।\n",
            "46    পদ্মা সেতু উদ্বোধন করার পর বর্তমানে পদ্মা সেতু...\n",
            "47    পদ্মা সেতু উদ্ভবন এর সময় প্রধানমন্ত্রী যতই হাস...\n",
            "48                                  পদ্মা সেতু নিয়ে গান\n",
            "49    পদ্মা সেতু বনাম ভুপেন হাজারিকা সেতু। পদ্মা সেত...\n",
            "Name: comment, dtype: object\n"
          ]
        }
      ]
    },
    {
      "cell_type": "code",
      "source": [
        "# train[\"selected_text\"][:50] = train[\"selected_text\"][:50].apply(lambda x: ' '.join([word for word in x.split() if word not in stopwords.words(\"english\")]))"
      ],
      "metadata": {
        "execution": {
          "iopub.status.busy": "2024-06-06T16:11:25.397590Z",
          "iopub.execute_input": "2024-06-06T16:11:25.398096Z",
          "iopub.status.idle": "2024-06-06T16:11:25.469439Z",
          "shell.execute_reply.started": "2024-06-06T16:11:25.398022Z",
          "shell.execute_reply": "2024-06-06T16:11:25.468166Z"
        },
        "trusted": true,
        "id": "uYe7IG_gXKeH"
      },
      "execution_count": null,
      "outputs": []
    },
    {
      "cell_type": "code",
      "source": [
        "train[\"comment\"]"
      ],
      "metadata": {
        "execution": {
          "iopub.status.busy": "2024-06-07T15:46:45.702552Z",
          "iopub.execute_input": "2024-06-07T15:46:45.702991Z",
          "iopub.status.idle": "2024-06-07T15:46:45.713297Z",
          "shell.execute_reply.started": "2024-06-07T15:46:45.702952Z",
          "shell.execute_reply": "2024-06-07T15:46:45.712024Z"
        },
        "trusted": true,
        "colab": {
          "base_uri": "https://localhost:8080/",
          "height": 458
        },
        "id": "MXp-3y0nXKeI",
        "outputId": "d8854e8d-1467-4c80-a487-ae717b3177b1"
      },
      "execution_count": 16,
      "outputs": [
        {
          "output_type": "execute_result",
          "data": {
            "text/plain": [
              "0       তোমরা সবাই এই ভাই তাকে একটু কোরোভিডিও গুলো দেখ...\n",
              "1       🎯 ব্রহ্মপুত্র নদের ওপর নির্মিত ৯১৫ কিলোমিটারের...\n",
              "2              😊 ধন্যবাদ মাননীয় প্রধানমন্ত্রী শেখ হাসিনা\n",
              "3                                       2022 এর 25 জুন 🥰🥰\n",
              "4       অনুভূতিটা এত সুন্দর ভাষায় প্রকাশ করতে পারতেছি...\n",
              "                              ...                        \n",
              "6370                           সব পিকাব বন্দ করে দেয়া হোক\n",
              "6371    এটাতো গোটারি কথা কারণ কোরআনের বদলে গান বলে উদ্...\n",
              "6372                               এগুলা সব বিনপির এর কাজ\n",
              "6373                        এইবার ট্রাক বন্ধ করে দেয়া হোক\n",
              "6374          কি হচ্ছে এসব আল্লাহ তায়ালা হেফাযত করুন আমিন\n",
              "Name: comment, Length: 6375, dtype: object"
            ],
            "text/html": [
              "<div>\n",
              "<style scoped>\n",
              "    .dataframe tbody tr th:only-of-type {\n",
              "        vertical-align: middle;\n",
              "    }\n",
              "\n",
              "    .dataframe tbody tr th {\n",
              "        vertical-align: top;\n",
              "    }\n",
              "\n",
              "    .dataframe thead th {\n",
              "        text-align: right;\n",
              "    }\n",
              "</style>\n",
              "<table border=\"1\" class=\"dataframe\">\n",
              "  <thead>\n",
              "    <tr style=\"text-align: right;\">\n",
              "      <th></th>\n",
              "      <th>comment</th>\n",
              "    </tr>\n",
              "  </thead>\n",
              "  <tbody>\n",
              "    <tr>\n",
              "      <th>0</th>\n",
              "      <td>তোমরা সবাই এই ভাই তাকে একটু কোরোভিডিও গুলো দেখ...</td>\n",
              "    </tr>\n",
              "    <tr>\n",
              "      <th>1</th>\n",
              "      <td>🎯 ব্রহ্মপুত্র নদের ওপর নির্মিত ৯১৫ কিলোমিটারের...</td>\n",
              "    </tr>\n",
              "    <tr>\n",
              "      <th>2</th>\n",
              "      <td>😊 ধন্যবাদ মাননীয় প্রধানমন্ত্রী শেখ হাসিনা</td>\n",
              "    </tr>\n",
              "    <tr>\n",
              "      <th>3</th>\n",
              "      <td>2022 এর 25 জুন 🥰🥰</td>\n",
              "    </tr>\n",
              "    <tr>\n",
              "      <th>4</th>\n",
              "      <td>অনুভূতিটা এত সুন্দর ভাষায় প্রকাশ করতে পারতেছি...</td>\n",
              "    </tr>\n",
              "    <tr>\n",
              "      <th>...</th>\n",
              "      <td>...</td>\n",
              "    </tr>\n",
              "    <tr>\n",
              "      <th>6370</th>\n",
              "      <td>সব পিকাব বন্দ করে দেয়া হোক</td>\n",
              "    </tr>\n",
              "    <tr>\n",
              "      <th>6371</th>\n",
              "      <td>এটাতো গোটারি কথা কারণ কোরআনের বদলে গান বলে উদ্...</td>\n",
              "    </tr>\n",
              "    <tr>\n",
              "      <th>6372</th>\n",
              "      <td>এগুলা সব বিনপির এর কাজ</td>\n",
              "    </tr>\n",
              "    <tr>\n",
              "      <th>6373</th>\n",
              "      <td>এইবার ট্রাক বন্ধ করে দেয়া হোক</td>\n",
              "    </tr>\n",
              "    <tr>\n",
              "      <th>6374</th>\n",
              "      <td>কি হচ্ছে এসব আল্লাহ তায়ালা হেফাযত করুন আমিন</td>\n",
              "    </tr>\n",
              "  </tbody>\n",
              "</table>\n",
              "<p>6375 rows × 1 columns</p>\n",
              "</div><br><label><b>dtype:</b> object</label>"
            ]
          },
          "metadata": {},
          "execution_count": 16
        }
      ]
    },
    {
      "cell_type": "code",
      "source": [
        "import gensim\n",
        "def sent_to_words(sentences):\n",
        "    for sentence in sentences:\n",
        "        yield(gensim.utils.simple_preprocess(str(sentence),     deacc=True))"
      ],
      "metadata": {
        "execution": {
          "iopub.status.busy": "2024-06-07T15:46:49.563418Z",
          "iopub.execute_input": "2024-06-07T15:46:49.563878Z",
          "iopub.status.idle": "2024-06-07T15:46:50.346103Z",
          "shell.execute_reply.started": "2024-06-07T15:46:49.563837Z",
          "shell.execute_reply": "2024-06-07T15:46:50.344581Z"
        },
        "trusted": true,
        "id": "KiI29mReXKeI"
      },
      "execution_count": 17,
      "outputs": []
    },
    {
      "cell_type": "code",
      "source": [
        "from nltk.tokenize.treebank import TreebankWordDetokenizer\n",
        "def detokenize(text):\n",
        "    return TreebankWordDetokenizer().detokenize(text)"
      ],
      "metadata": {
        "execution": {
          "iopub.status.busy": "2024-06-07T15:46:53.420400Z",
          "iopub.execute_input": "2024-06-07T15:46:53.420836Z",
          "iopub.status.idle": "2024-06-07T15:46:54.130979Z",
          "shell.execute_reply.started": "2024-06-07T15:46:53.420799Z",
          "shell.execute_reply": "2024-06-07T15:46:54.129689Z"
        },
        "trusted": true,
        "id": "gE06iPFqXKeI"
      },
      "execution_count": 18,
      "outputs": []
    },
    {
      "cell_type": "code",
      "source": [
        "temp = []\n",
        "data_to_list = train['comment'].values.tolist()\n",
        "for i in range(len(data_to_list)):\n",
        "    temp.append(data_to_list[i])\n",
        "data_wordslem = list(sent_to_words(temp))"
      ],
      "metadata": {
        "execution": {
          "iopub.status.busy": "2024-06-07T15:47:03.042931Z",
          "iopub.execute_input": "2024-06-07T15:47:03.043387Z",
          "iopub.status.idle": "2024-06-07T15:47:03.153292Z",
          "shell.execute_reply.started": "2024-06-07T15:47:03.043348Z",
          "shell.execute_reply": "2024-06-07T15:47:03.151932Z"
        },
        "trusted": true,
        "id": "C34fCkbtXKeI"
      },
      "execution_count": 19,
      "outputs": []
    },
    {
      "cell_type": "markdown",
      "source": [
        "Using Lemmatizer instead of stemming. Lemmatizer is preffered over stemming. Lemmatizer find the root word whereas Stemmizer shorten the word. For Example, word 'Caring' -> Lemmatizer -> 'Care' WHEREAS 'Caring' -> Stemming -> 'Car'"
      ],
      "metadata": {
        "id": "CmNHNUlDXKeI"
      }
    },
    {
      "cell_type": "code",
      "source": [
        "import nltk\n",
        "lemmatizer = nltk.stem.WordNetLemmatizer()"
      ],
      "metadata": {
        "execution": {
          "iopub.status.busy": "2024-06-07T15:47:38.006932Z",
          "iopub.execute_input": "2024-06-07T15:47:38.007374Z",
          "iopub.status.idle": "2024-06-07T15:47:38.013755Z",
          "shell.execute_reply.started": "2024-06-07T15:47:38.007339Z",
          "shell.execute_reply": "2024-06-07T15:47:38.012052Z"
        },
        "trusted": true,
        "id": "2b3s_1NLXKeI"
      },
      "execution_count": 20,
      "outputs": []
    },
    {
      "cell_type": "code",
      "source": [
        "nltk.download('omw-1.4')"
      ],
      "metadata": {
        "execution": {
          "iopub.status.busy": "2024-06-07T15:47:39.958225Z",
          "iopub.execute_input": "2024-06-07T15:47:39.958651Z",
          "iopub.status.idle": "2024-06-07T15:47:40.167151Z",
          "shell.execute_reply.started": "2024-06-07T15:47:39.958608Z",
          "shell.execute_reply": "2024-06-07T15:47:40.165983Z"
        },
        "trusted": true,
        "colab": {
          "base_uri": "https://localhost:8080/"
        },
        "id": "cj1G-5uTXKeI",
        "outputId": "658ff949-3dac-4b8c-ac0e-14be1ce282df"
      },
      "execution_count": 21,
      "outputs": [
        {
          "output_type": "stream",
          "name": "stderr",
          "text": [
            "[nltk_data] Downloading package omw-1.4 to /root/nltk_data...\n"
          ]
        },
        {
          "output_type": "execute_result",
          "data": {
            "text/plain": [
              "True"
            ]
          },
          "metadata": {},
          "execution_count": 21
        }
      ]
    },
    {
      "cell_type": "code",
      "source": [
        "# for i in range(len(data_wordslem)):\n",
        "#     for j in range(len(data_wordslem[i])):\n",
        "#         data_wordslem[i][j] = lemmatizer.lemmatize(data_wordslem[i][j],pos=\"v\")\n",
        "import nltk\n",
        "nltk.download('wordnet')\n",
        "nltk.download('omw-1.4')\n",
        "\n",
        "# Assuming you have a lemmatizer and data_wordslem already defined\n",
        "from nltk.stem import WordNetLemmatizer\n",
        "\n",
        "lemmatizer = WordNetLemmatizer()\n",
        "\n",
        "# Sample lemmatization process\n",
        "for i in range(len(data_wordslem)):\n",
        "    for j in range(len(data_wordslem[i])):\n",
        "        data_wordslem[i][j] = lemmatizer.lemmatize(data_wordslem[i][j], pos=\"v\")\n"
      ],
      "metadata": {
        "execution": {
          "iopub.status.busy": "2024-06-07T15:48:10.095258Z",
          "iopub.execute_input": "2024-06-07T15:48:10.095723Z",
          "iopub.status.idle": "2024-06-07T15:48:12.149935Z",
          "shell.execute_reply.started": "2024-06-07T15:48:10.095684Z",
          "shell.execute_reply": "2024-06-07T15:48:12.148691Z"
        },
        "trusted": true,
        "colab": {
          "base_uri": "https://localhost:8080/"
        },
        "id": "EhsMTvwFXKeJ",
        "outputId": "c7db8815-8a53-4d4a-fa25-2595e8814e59"
      },
      "execution_count": 24,
      "outputs": [
        {
          "output_type": "stream",
          "name": "stderr",
          "text": [
            "[nltk_data] Downloading package wordnet to /root/nltk_data...\n",
            "[nltk_data] Downloading package omw-1.4 to /root/nltk_data...\n",
            "[nltk_data]   Package omw-1.4 is already up-to-date!\n"
          ]
        }
      ]
    },
    {
      "cell_type": "code",
      "source": [
        "data = []\n",
        "for i in range(len(data_wordslem)):\n",
        "    data.append(detokenize(data_wordslem[i]))\n",
        "print(data[:5])"
      ],
      "metadata": {
        "execution": {
          "iopub.status.busy": "2024-06-07T15:48:15.857733Z",
          "iopub.execute_input": "2024-06-07T15:48:15.858221Z",
          "iopub.status.idle": "2024-06-07T15:48:16.011313Z",
          "shell.execute_reply.started": "2024-06-07T15:48:15.858179Z",
          "shell.execute_reply": "2024-06-07T15:48:16.009932Z"
        },
        "trusted": true,
        "colab": {
          "base_uri": "https://localhost:8080/"
        },
        "id": "2I3W01Q0XKeJ",
        "outputId": "8b04acaa-ffe3-4c06-806c-12a9a8a25dc8"
      },
      "execution_count": 25,
      "outputs": [
        {
          "output_type": "stream",
          "name": "stdout",
          "text": [
            "['মর সব এই একট গল গল ধনযব', 'বরহমপতর নদ ওপর রম ভপ রত বছর পদম এব ইঞজ রদ পর বছর মপ রত গরব ভপ রত তর নদ শরম পরয জন ভপ তত লটয কস হব আর পদম তত টয কস ওয হব বছর গরব করন জনয সবদ রম জনয গহ', 'ধনযব নন পরধ নমনতর', 'এর জন', 'অনভত এত সনদর পরক করত রত আস ধনযব নন পরধ নমনতর']\n"
          ]
        }
      ]
    },
    {
      "cell_type": "markdown",
      "source": [
        "# Building a Model"
      ],
      "metadata": {
        "id": "RtXHBFVRXKeJ"
      }
    },
    {
      "cell_type": "code",
      "source": [
        "!pip install tensorflow\n"
      ],
      "metadata": {
        "colab": {
          "base_uri": "https://localhost:8080/"
        },
        "id": "1JsPiTNRbfmk",
        "outputId": "2df33edd-6d56-4ee8-fbbf-f185827937d7"
      },
      "execution_count": 27,
      "outputs": [
        {
          "output_type": "stream",
          "name": "stdout",
          "text": [
            "Requirement already satisfied: tensorflow in /usr/local/lib/python3.10/dist-packages (2.17.0)\n",
            "Requirement already satisfied: absl-py>=1.0.0 in /usr/local/lib/python3.10/dist-packages (from tensorflow) (1.4.0)\n",
            "Requirement already satisfied: astunparse>=1.6.0 in /usr/local/lib/python3.10/dist-packages (from tensorflow) (1.6.3)\n",
            "Requirement already satisfied: flatbuffers>=24.3.25 in /usr/local/lib/python3.10/dist-packages (from tensorflow) (24.3.25)\n",
            "Requirement already satisfied: gast!=0.5.0,!=0.5.1,!=0.5.2,>=0.2.1 in /usr/local/lib/python3.10/dist-packages (from tensorflow) (0.6.0)\n",
            "Requirement already satisfied: google-pasta>=0.1.1 in /usr/local/lib/python3.10/dist-packages (from tensorflow) (0.2.0)\n",
            "Requirement already satisfied: h5py>=3.10.0 in /usr/local/lib/python3.10/dist-packages (from tensorflow) (3.11.0)\n",
            "Requirement already satisfied: libclang>=13.0.0 in /usr/local/lib/python3.10/dist-packages (from tensorflow) (18.1.1)\n",
            "Requirement already satisfied: ml-dtypes<0.5.0,>=0.3.1 in /usr/local/lib/python3.10/dist-packages (from tensorflow) (0.4.1)\n",
            "Requirement already satisfied: opt-einsum>=2.3.2 in /usr/local/lib/python3.10/dist-packages (from tensorflow) (3.4.0)\n",
            "Requirement already satisfied: packaging in /usr/local/lib/python3.10/dist-packages (from tensorflow) (24.1)\n",
            "Requirement already satisfied: protobuf!=4.21.0,!=4.21.1,!=4.21.2,!=4.21.3,!=4.21.4,!=4.21.5,<5.0.0dev,>=3.20.3 in /usr/local/lib/python3.10/dist-packages (from tensorflow) (3.20.3)\n",
            "Requirement already satisfied: requests<3,>=2.21.0 in /usr/local/lib/python3.10/dist-packages (from tensorflow) (2.32.3)\n",
            "Requirement already satisfied: setuptools in /usr/local/lib/python3.10/dist-packages (from tensorflow) (71.0.4)\n",
            "Requirement already satisfied: six>=1.12.0 in /usr/local/lib/python3.10/dist-packages (from tensorflow) (1.16.0)\n",
            "Requirement already satisfied: termcolor>=1.1.0 in /usr/local/lib/python3.10/dist-packages (from tensorflow) (2.5.0)\n",
            "Requirement already satisfied: typing-extensions>=3.6.6 in /usr/local/lib/python3.10/dist-packages (from tensorflow) (4.12.2)\n",
            "Requirement already satisfied: wrapt>=1.11.0 in /usr/local/lib/python3.10/dist-packages (from tensorflow) (1.16.0)\n",
            "Requirement already satisfied: grpcio<2.0,>=1.24.3 in /usr/local/lib/python3.10/dist-packages (from tensorflow) (1.64.1)\n",
            "Requirement already satisfied: tensorboard<2.18,>=2.17 in /usr/local/lib/python3.10/dist-packages (from tensorflow) (2.17.0)\n",
            "Requirement already satisfied: keras>=3.2.0 in /usr/local/lib/python3.10/dist-packages (from tensorflow) (3.4.1)\n",
            "Requirement already satisfied: tensorflow-io-gcs-filesystem>=0.23.1 in /usr/local/lib/python3.10/dist-packages (from tensorflow) (0.37.1)\n",
            "Requirement already satisfied: numpy<2.0.0,>=1.23.5 in /usr/local/lib/python3.10/dist-packages (from tensorflow) (1.26.4)\n",
            "Requirement already satisfied: wheel<1.0,>=0.23.0 in /usr/local/lib/python3.10/dist-packages (from astunparse>=1.6.0->tensorflow) (0.44.0)\n",
            "Requirement already satisfied: rich in /usr/local/lib/python3.10/dist-packages (from keras>=3.2.0->tensorflow) (13.9.2)\n",
            "Requirement already satisfied: namex in /usr/local/lib/python3.10/dist-packages (from keras>=3.2.0->tensorflow) (0.0.8)\n",
            "Requirement already satisfied: optree in /usr/local/lib/python3.10/dist-packages (from keras>=3.2.0->tensorflow) (0.13.0)\n",
            "Requirement already satisfied: charset-normalizer<4,>=2 in /usr/local/lib/python3.10/dist-packages (from requests<3,>=2.21.0->tensorflow) (3.4.0)\n",
            "Requirement already satisfied: idna<4,>=2.5 in /usr/local/lib/python3.10/dist-packages (from requests<3,>=2.21.0->tensorflow) (3.10)\n",
            "Requirement already satisfied: urllib3<3,>=1.21.1 in /usr/local/lib/python3.10/dist-packages (from requests<3,>=2.21.0->tensorflow) (2.2.3)\n",
            "Requirement already satisfied: certifi>=2017.4.17 in /usr/local/lib/python3.10/dist-packages (from requests<3,>=2.21.0->tensorflow) (2024.8.30)\n",
            "Requirement already satisfied: markdown>=2.6.8 in /usr/local/lib/python3.10/dist-packages (from tensorboard<2.18,>=2.17->tensorflow) (3.7)\n",
            "Requirement already satisfied: tensorboard-data-server<0.8.0,>=0.7.0 in /usr/local/lib/python3.10/dist-packages (from tensorboard<2.18,>=2.17->tensorflow) (0.7.2)\n",
            "Requirement already satisfied: werkzeug>=1.0.1 in /usr/local/lib/python3.10/dist-packages (from tensorboard<2.18,>=2.17->tensorflow) (3.0.4)\n",
            "Requirement already satisfied: MarkupSafe>=2.1.1 in /usr/local/lib/python3.10/dist-packages (from werkzeug>=1.0.1->tensorboard<2.18,>=2.17->tensorflow) (3.0.1)\n",
            "Requirement already satisfied: markdown-it-py>=2.2.0 in /usr/local/lib/python3.10/dist-packages (from rich->keras>=3.2.0->tensorflow) (3.0.0)\n",
            "Requirement already satisfied: pygments<3.0.0,>=2.13.0 in /usr/local/lib/python3.10/dist-packages (from rich->keras>=3.2.0->tensorflow) (2.18.0)\n",
            "Requirement already satisfied: mdurl~=0.1 in /usr/local/lib/python3.10/dist-packages (from markdown-it-py>=2.2.0->rich->keras>=3.2.0->tensorflow) (0.1.2)\n"
          ]
        }
      ]
    },
    {
      "cell_type": "code",
      "source": [
        "# from keras.preprocessing.text import Tokenizer\n",
        "# from keras_preprocessing.sequence import pad_sequences\n",
        "# from keras import regularizers\n",
        "from tensorflow.keras.preprocessing.text import Tokenizer\n",
        "from tensorflow.keras.preprocessing.sequence import pad_sequences\n",
        "from tensorflow.keras import regularizers\n"
      ],
      "metadata": {
        "execution": {
          "iopub.status.busy": "2024-06-07T15:48:20.561025Z",
          "iopub.execute_input": "2024-06-07T15:48:20.561902Z",
          "iopub.status.idle": "2024-06-07T15:48:26.601321Z",
          "shell.execute_reply.started": "2024-06-07T15:48:20.561858Z",
          "shell.execute_reply": "2024-06-07T15:48:26.600145Z"
        },
        "trusted": true,
        "id": "TMQVi-wnXKeJ"
      },
      "execution_count": 29,
      "outputs": []
    },
    {
      "cell_type": "markdown",
      "source": [
        "# Tokenizing and adding padding"
      ],
      "metadata": {
        "id": "YKHHUCbaXKeK"
      }
    },
    {
      "cell_type": "code",
      "source": [
        "max_words = 5000\n",
        "max_len = 200\n",
        "\n",
        "tokenizer = Tokenizer(num_words=max_words)\n",
        "tokenizer.fit_on_texts(data)\n",
        "sequences = tokenizer.texts_to_sequences(data)\n",
        "tweets = pad_sequences(sequences, maxlen=max_len)\n",
        "print(tweets)"
      ],
      "metadata": {
        "execution": {
          "iopub.status.busy": "2024-06-07T15:48:32.234340Z",
          "iopub.execute_input": "2024-06-07T15:48:32.235071Z",
          "iopub.status.idle": "2024-06-07T15:48:32.320556Z",
          "shell.execute_reply.started": "2024-06-07T15:48:32.235028Z",
          "shell.execute_reply": "2024-06-07T15:48:32.319215Z"
        },
        "trusted": true,
        "colab": {
          "base_uri": "https://localhost:8080/"
        },
        "id": "LHaRb8h-XKeK",
        "outputId": "71ffdfa3-14e3-429f-d5d9-2b8badd0c53b"
      },
      "execution_count": 30,
      "outputs": [
        {
          "output_type": "stream",
          "name": "stdout",
          "text": [
            "[[   0    0    0 ...   20   20   40]\n",
            " [   0    0    0 ...   59   11 1065]\n",
            " [   0    0    0 ...   39   38   45]\n",
            " ...\n",
            " [   0    0    0 ...    7  752   24]\n",
            " [   0    0    0 ...   14   42    1]\n",
            " [   0    0    0 ...  136  110    2]]\n"
          ]
        }
      ]
    },
    {
      "cell_type": "code",
      "source": [
        "from keras.layers import Embedding\n",
        "embedding_layer = Embedding(1000, 64)"
      ],
      "metadata": {
        "execution": {
          "iopub.status.busy": "2024-06-07T15:48:35.327215Z",
          "iopub.execute_input": "2024-06-07T15:48:35.328215Z",
          "iopub.status.idle": "2024-06-07T15:48:35.360363Z",
          "shell.execute_reply.started": "2024-06-07T15:48:35.328165Z",
          "shell.execute_reply": "2024-06-07T15:48:35.359104Z"
        },
        "trusted": true,
        "id": "sr1y1T8GXKeK"
      },
      "execution_count": 31,
      "outputs": []
    },
    {
      "cell_type": "markdown",
      "source": [
        "# Using BiDirectional RNN and LSTM"
      ],
      "metadata": {
        "id": "pcIJ0vjwXKeL"
      }
    },
    {
      "cell_type": "markdown",
      "source": [
        "Bidirectional RNN is preffered over simple RNN because Bidirectional RNN will keep the activations of future words while predicting activations of current words using backprop through time. LSTM (long short term memory) is used to remember the word. Its like a memory of Neual Networks. (I learn this in Deep Learning Specialization course by Andrew Ng)"
      ],
      "metadata": {
        "id": "AWZcpwI1XKeL"
      }
    },
    {
      "cell_type": "code",
      "source": [
        "from keras.models import Sequential\n",
        "from keras import layers\n",
        "\n",
        "model2 = Sequential()\n",
        "model2.add(layers.Embedding(max_words, 40, input_length=max_len))\n",
        "model2.add(layers.Bidirectional(layers.LSTM(20,dropout=0.6)))\n",
        "model2.add(layers.Dense(3,activation='softmax'))"
      ],
      "metadata": {
        "execution": {
          "iopub.status.busy": "2024-06-07T15:48:40.046722Z",
          "iopub.execute_input": "2024-06-07T15:48:40.048088Z",
          "iopub.status.idle": "2024-06-07T15:48:40.700669Z",
          "shell.execute_reply.started": "2024-06-07T15:48:40.048027Z",
          "shell.execute_reply": "2024-06-07T15:48:40.699678Z"
        },
        "trusted": true,
        "colab": {
          "base_uri": "https://localhost:8080/"
        },
        "id": "yP346iPuXKeL",
        "outputId": "8ccde808-5330-4ca5-8a52-88a276fd8569"
      },
      "execution_count": 32,
      "outputs": [
        {
          "output_type": "stream",
          "name": "stderr",
          "text": [
            "/usr/local/lib/python3.10/dist-packages/keras/src/layers/core/embedding.py:90: UserWarning: Argument `input_length` is deprecated. Just remove it.\n",
            "  warnings.warn(\n"
          ]
        }
      ]
    },
    {
      "cell_type": "code",
      "source": [
        "model2.compile(optimizer='adam',loss='categorical_crossentropy', metrics=['accuracy'])"
      ],
      "metadata": {
        "execution": {
          "iopub.status.busy": "2024-06-07T15:48:46.640394Z",
          "iopub.execute_input": "2024-06-07T15:48:46.640809Z",
          "iopub.status.idle": "2024-06-07T15:48:46.659492Z",
          "shell.execute_reply.started": "2024-06-07T15:48:46.640775Z",
          "shell.execute_reply": "2024-06-07T15:48:46.658181Z"
        },
        "trusted": true,
        "id": "5aWaZb8TXKeL"
      },
      "execution_count": 33,
      "outputs": []
    },
    {
      "cell_type": "markdown",
      "source": [
        "# Label Encoding of output"
      ],
      "metadata": {
        "id": "1_gsnN5TXKeL"
      }
    },
    {
      "cell_type": "code",
      "source": [
        "df['Compound to sentiment'].unique()"
      ],
      "metadata": {
        "colab": {
          "base_uri": "https://localhost:8080/"
        },
        "id": "ZAKVepUPbzaS",
        "outputId": "4b911ff1-d579-478d-f3aa-799f7d27fbea"
      },
      "execution_count": 35,
      "outputs": [
        {
          "output_type": "execute_result",
          "data": {
            "text/plain": [
              "array(['positive', 'neutral', 'negative'], dtype=object)"
            ]
          },
          "metadata": {},
          "execution_count": 35
        }
      ]
    },
    {
      "cell_type": "code",
      "source": [
        "# import tensorflow as tf\n",
        "# labels = np.array(train['Compound to sentiment'])\n",
        "# y = []\n",
        "# for i in range(len(labels)):\n",
        "#     if labels[i] == 'neutral':\n",
        "#         y.append(0)\n",
        "#     if labels[i] == 'negative':\n",
        "#         y.append(1)\n",
        "#     if labels[i] == 'positive':\n",
        "#         y.append(2)\n",
        "# y = np.array(y)\n",
        "# labels = tf.keras.utils.to_categorical(y, 3, dtype=\"float32\")\n",
        "# del y\n",
        "\n",
        "import tensorflow as tf\n",
        "import numpy as np\n",
        "\n",
        "labels = np.array(train['Compound to sentiment'])\n",
        "y = []\n",
        "\n",
        "for i in range(len(labels)):\n",
        "    if labels[i] == 'neutral':\n",
        "        y.append(0)\n",
        "    if labels[i] == 'negative':\n",
        "        y.append(1)\n",
        "    if labels[i] == 'positive':\n",
        "        y.append(2)\n",
        "\n",
        "y = np.array(y)\n",
        "\n",
        "# Convert to one-hot encoding\n",
        "labels = tf.keras.utils.to_categorical(y, 3)  # Removed dtype argument\n",
        "\n",
        "# Optionally, delete the original y array if you don't need it anymore\n",
        "del y\n"
      ],
      "metadata": {
        "execution": {
          "iopub.status.busy": "2024-06-07T15:49:15.064118Z",
          "iopub.execute_input": "2024-06-07T15:49:15.064565Z",
          "iopub.status.idle": "2024-06-07T15:49:15.442217Z",
          "shell.execute_reply.started": "2024-06-07T15:49:15.064527Z",
          "shell.execute_reply": "2024-06-07T15:49:15.440963Z"
        },
        "trusted": true,
        "id": "HcI6n9mQXKeL"
      },
      "execution_count": 37,
      "outputs": []
    },
    {
      "cell_type": "markdown",
      "source": [
        "# Training the Model"
      ],
      "metadata": {
        "id": "Qf5aVU1pXKeL"
      }
    },
    {
      "cell_type": "code",
      "source": [
        "history = model2.fit(x = tweets, y= labels, epochs=25,validation_split=0.2)"
      ],
      "metadata": {
        "execution": {
          "iopub.status.busy": "2024-06-07T15:49:27.410793Z",
          "iopub.execute_input": "2024-06-07T15:49:27.411221Z",
          "iopub.status.idle": "2024-06-07T15:52:45.378099Z",
          "shell.execute_reply.started": "2024-06-07T15:49:27.411187Z",
          "shell.execute_reply": "2024-06-07T15:52:45.376809Z"
        },
        "trusted": true,
        "colab": {
          "base_uri": "https://localhost:8080/"
        },
        "id": "FMtacSgfXKeM",
        "outputId": "88f71ecb-e313-42fa-a999-1610d3f8d774"
      },
      "execution_count": 38,
      "outputs": [
        {
          "output_type": "stream",
          "name": "stdout",
          "text": [
            "Epoch 1/25\n",
            "\u001b[1m160/160\u001b[0m \u001b[32m━━━━━━━━━━━━━━━━━━━━\u001b[0m\u001b[37m\u001b[0m \u001b[1m30s\u001b[0m 160ms/step - accuracy: 0.4419 - loss: 1.0684 - val_accuracy: 0.3702 - val_loss: 1.0616\n",
            "Epoch 2/25\n",
            "\u001b[1m160/160\u001b[0m \u001b[32m━━━━━━━━━━━━━━━━━━━━\u001b[0m\u001b[37m\u001b[0m \u001b[1m40s\u001b[0m 157ms/step - accuracy: 0.5244 - loss: 0.9354 - val_accuracy: 0.4620 - val_loss: 0.9989\n",
            "Epoch 3/25\n",
            "\u001b[1m160/160\u001b[0m \u001b[32m━━━━━━━━━━━━━━━━━━━━\u001b[0m\u001b[37m\u001b[0m \u001b[1m42s\u001b[0m 161ms/step - accuracy: 0.6052 - loss: 0.8385 - val_accuracy: 0.5082 - val_loss: 0.9621\n",
            "Epoch 4/25\n",
            "\u001b[1m160/160\u001b[0m \u001b[32m━━━━━━━━━━━━━━━━━━━━\u001b[0m\u001b[37m\u001b[0m \u001b[1m41s\u001b[0m 159ms/step - accuracy: 0.6581 - loss: 0.7657 - val_accuracy: 0.4792 - val_loss: 1.0085\n",
            "Epoch 5/25\n",
            "\u001b[1m160/160\u001b[0m \u001b[32m━━━━━━━━━━━━━━━━━━━━\u001b[0m\u001b[37m\u001b[0m \u001b[1m41s\u001b[0m 157ms/step - accuracy: 0.6919 - loss: 0.7165 - val_accuracy: 0.4957 - val_loss: 1.0044\n",
            "Epoch 6/25\n",
            "\u001b[1m160/160\u001b[0m \u001b[32m━━━━━━━━━━━━━━━━━━━━\u001b[0m\u001b[37m\u001b[0m \u001b[1m41s\u001b[0m 158ms/step - accuracy: 0.7210 - loss: 0.6617 - val_accuracy: 0.4878 - val_loss: 1.0551\n",
            "Epoch 7/25\n",
            "\u001b[1m160/160\u001b[0m \u001b[32m━━━━━━━━━━━━━━━━━━━━\u001b[0m\u001b[37m\u001b[0m \u001b[1m41s\u001b[0m 156ms/step - accuracy: 0.7311 - loss: 0.6288 - val_accuracy: 0.4988 - val_loss: 1.0521\n",
            "Epoch 8/25\n",
            "\u001b[1m160/160\u001b[0m \u001b[32m━━━━━━━━━━━━━━━━━━━━\u001b[0m\u001b[37m\u001b[0m \u001b[1m25s\u001b[0m 157ms/step - accuracy: 0.7547 - loss: 0.5957 - val_accuracy: 0.4988 - val_loss: 1.0867\n",
            "Epoch 9/25\n",
            "\u001b[1m160/160\u001b[0m \u001b[32m━━━━━━━━━━━━━━━━━━━━\u001b[0m\u001b[37m\u001b[0m \u001b[1m41s\u001b[0m 157ms/step - accuracy: 0.7566 - loss: 0.5905 - val_accuracy: 0.5027 - val_loss: 1.1061\n",
            "Epoch 10/25\n",
            "\u001b[1m160/160\u001b[0m \u001b[32m━━━━━━━━━━━━━━━━━━━━\u001b[0m\u001b[37m\u001b[0m \u001b[1m41s\u001b[0m 154ms/step - accuracy: 0.7771 - loss: 0.5730 - val_accuracy: 0.4918 - val_loss: 1.1046\n",
            "Epoch 11/25\n",
            "\u001b[1m160/160\u001b[0m \u001b[32m━━━━━━━━━━━━━━━━━━━━\u001b[0m\u001b[37m\u001b[0m \u001b[1m42s\u001b[0m 158ms/step - accuracy: 0.7648 - loss: 0.5755 - val_accuracy: 0.4792 - val_loss: 1.1621\n",
            "Epoch 12/25\n",
            "\u001b[1m160/160\u001b[0m \u001b[32m━━━━━━━━━━━━━━━━━━━━\u001b[0m\u001b[37m\u001b[0m \u001b[1m41s\u001b[0m 160ms/step - accuracy: 0.7835 - loss: 0.5547 - val_accuracy: 0.4659 - val_loss: 1.1930\n",
            "Epoch 13/25\n",
            "\u001b[1m160/160\u001b[0m \u001b[32m━━━━━━━━━━━━━━━━━━━━\u001b[0m\u001b[37m\u001b[0m \u001b[1m41s\u001b[0m 159ms/step - accuracy: 0.7741 - loss: 0.5506 - val_accuracy: 0.4800 - val_loss: 1.2203\n",
            "Epoch 14/25\n",
            "\u001b[1m160/160\u001b[0m \u001b[32m━━━━━━━━━━━━━━━━━━━━\u001b[0m\u001b[37m\u001b[0m \u001b[1m26s\u001b[0m 160ms/step - accuracy: 0.8048 - loss: 0.5018 - val_accuracy: 0.4784 - val_loss: 1.2561\n",
            "Epoch 15/25\n",
            "\u001b[1m160/160\u001b[0m \u001b[32m━━━━━━━━━━━━━━━━━━━━\u001b[0m\u001b[37m\u001b[0m \u001b[1m24s\u001b[0m 149ms/step - accuracy: 0.8032 - loss: 0.5068 - val_accuracy: 0.4839 - val_loss: 1.2732\n",
            "Epoch 16/25\n",
            "\u001b[1m160/160\u001b[0m \u001b[32m━━━━━━━━━━━━━━━━━━━━\u001b[0m\u001b[37m\u001b[0m \u001b[1m25s\u001b[0m 159ms/step - accuracy: 0.8023 - loss: 0.4976 - val_accuracy: 0.4863 - val_loss: 1.2705\n",
            "Epoch 17/25\n",
            "\u001b[1m160/160\u001b[0m \u001b[32m━━━━━━━━━━━━━━━━━━━━\u001b[0m\u001b[37m\u001b[0m \u001b[1m40s\u001b[0m 150ms/step - accuracy: 0.8122 - loss: 0.4741 - val_accuracy: 0.4729 - val_loss: 1.3145\n",
            "Epoch 18/25\n",
            "\u001b[1m160/160\u001b[0m \u001b[32m━━━━━━━━━━━━━━━━━━━━\u001b[0m\u001b[37m\u001b[0m \u001b[1m40s\u001b[0m 145ms/step - accuracy: 0.8232 - loss: 0.4540 - val_accuracy: 0.4659 - val_loss: 1.3451\n",
            "Epoch 19/25\n",
            "\u001b[1m160/160\u001b[0m \u001b[32m━━━━━━━━━━━━━━━━━━━━\u001b[0m\u001b[37m\u001b[0m \u001b[1m25s\u001b[0m 154ms/step - accuracy: 0.8175 - loss: 0.4482 - val_accuracy: 0.4847 - val_loss: 1.3754\n",
            "Epoch 20/25\n",
            "\u001b[1m160/160\u001b[0m \u001b[32m━━━━━━━━━━━━━━━━━━━━\u001b[0m\u001b[37m\u001b[0m \u001b[1m24s\u001b[0m 152ms/step - accuracy: 0.8206 - loss: 0.4286 - val_accuracy: 0.4690 - val_loss: 1.4207\n",
            "Epoch 21/25\n",
            "\u001b[1m160/160\u001b[0m \u001b[32m━━━━━━━━━━━━━━━━━━━━\u001b[0m\u001b[37m\u001b[0m \u001b[1m40s\u001b[0m 148ms/step - accuracy: 0.8290 - loss: 0.4183 - val_accuracy: 0.4855 - val_loss: 1.4469\n",
            "Epoch 22/25\n",
            "\u001b[1m160/160\u001b[0m \u001b[32m━━━━━━━━━━━━━━━━━━━━\u001b[0m\u001b[37m\u001b[0m \u001b[1m41s\u001b[0m 147ms/step - accuracy: 0.8426 - loss: 0.4050 - val_accuracy: 0.4941 - val_loss: 1.4557\n",
            "Epoch 23/25\n",
            "\u001b[1m160/160\u001b[0m \u001b[32m━━━━━━━━━━━━━━━━━━━━\u001b[0m\u001b[37m\u001b[0m \u001b[1m41s\u001b[0m 146ms/step - accuracy: 0.8264 - loss: 0.4214 - val_accuracy: 0.4769 - val_loss: 1.4610\n",
            "Epoch 24/25\n",
            "\u001b[1m160/160\u001b[0m \u001b[32m━━━━━━━━━━━━━━━━━━━━\u001b[0m\u001b[37m\u001b[0m \u001b[1m24s\u001b[0m 149ms/step - accuracy: 0.8455 - loss: 0.4013 - val_accuracy: 0.4722 - val_loss: 1.4957\n",
            "Epoch 25/25\n",
            "\u001b[1m160/160\u001b[0m \u001b[32m━━━━━━━━━━━━━━━━━━━━\u001b[0m\u001b[37m\u001b[0m \u001b[1m41s\u001b[0m 149ms/step - accuracy: 0.8408 - loss: 0.3885 - val_accuracy: 0.4871 - val_loss: 1.4996\n"
          ]
        }
      ]
    },
    {
      "cell_type": "code",
      "source": [
        "import matplotlib.pyplot as plt"
      ],
      "metadata": {
        "execution": {
          "iopub.status.busy": "2024-06-07T16:04:29.260922Z",
          "iopub.execute_input": "2024-06-07T16:04:29.261449Z",
          "iopub.status.idle": "2024-06-07T16:04:29.267156Z",
          "shell.execute_reply.started": "2024-06-07T16:04:29.261377Z",
          "shell.execute_reply": "2024-06-07T16:04:29.265909Z"
        },
        "trusted": true,
        "id": "G6RV_OshXKeM"
      },
      "execution_count": 39,
      "outputs": []
    },
    {
      "cell_type": "markdown",
      "source": [
        "# Visualizing Loss"
      ],
      "metadata": {
        "id": "bCk-k-EbXKeM"
      }
    },
    {
      "cell_type": "code",
      "source": [
        "plt.plot(history.history['loss'])\n",
        "plt.plot(history.history['val_loss'])\n",
        "plt.title('Loss')\n",
        "plt.ylabel('loss')\n",
        "plt.xlabel('epoch')\n",
        "plt.legend(['train', 'validation'], loc='upper left')\n",
        "plt.show()"
      ],
      "metadata": {
        "execution": {
          "iopub.status.busy": "2024-06-07T16:04:32.054842Z",
          "iopub.execute_input": "2024-06-07T16:04:32.055288Z",
          "iopub.status.idle": "2024-06-07T16:04:32.297924Z",
          "shell.execute_reply.started": "2024-06-07T16:04:32.055254Z",
          "shell.execute_reply": "2024-06-07T16:04:32.296572Z"
        },
        "trusted": true,
        "colab": {
          "base_uri": "https://localhost:8080/",
          "height": 472
        },
        "id": "eXVWxGXaXKeM",
        "outputId": "3c35d61b-b05d-4a42-f825-51369c24d41a"
      },
      "execution_count": 40,
      "outputs": [
        {
          "output_type": "display_data",
          "data": {
            "text/plain": [
              "<Figure size 640x480 with 1 Axes>"
            ],
            "image/png": "[encoded data removed]"
          },
          "metadata": {}
        }
      ]
    },
    {
      "cell_type": "code",
      "source": [
        "plt.plot(history.history['accuracy'])\n",
        "plt.plot(history.history['val_accuracy'])\n",
        "plt.title('Accuracy')\n",
        "plt.ylabel('Accuracy')\n",
        "plt.xlabel('epoch')\n",
        "plt.legend(['train', 'validation'], loc='upper left')\n",
        "plt.show()"
      ],
      "metadata": {
        "execution": {
          "iopub.status.busy": "2024-06-07T16:04:37.224619Z",
          "iopub.execute_input": "2024-06-07T16:04:37.225089Z",
          "iopub.status.idle": "2024-06-07T16:04:37.425301Z",
          "shell.execute_reply.started": "2024-06-07T16:04:37.225051Z",
          "shell.execute_reply": "2024-06-07T16:04:37.424085Z"
        },
        "trusted": true,
        "colab": {
          "base_uri": "https://localhost:8080/",
          "height": 472
        },
        "id": "XOLtKuaSXKeM",
        "outputId": "6f41c59e-16ff-4526-abfb-70b907372b71"
      },
      "execution_count": 41,
      "outputs": [
        {
          "output_type": "display_data",
          "data": {
            "text/plain": [
              "<Figure size 640x480 with 1 Axes>"
            ],
            "image/png": "[encoded data removed]"
          },
          "metadata": {}
        }
      ]
    },
    {
      "cell_type": "markdown",
      "source": [
        "# Prediction and Result"
      ],
      "metadata": {
        "id": "kWQPi2ltXKeM"
      }
    },
    {
      "cell_type": "code",
      "source": [
        "sentiment = ['Neutral','Negative','Positive']"
      ],
      "metadata": {
        "execution": {
          "iopub.status.busy": "2024-06-07T16:04:40.494555Z",
          "iopub.execute_input": "2024-06-07T16:04:40.495025Z",
          "iopub.status.idle": "2024-06-07T16:04:40.500934Z",
          "shell.execute_reply.started": "2024-06-07T16:04:40.494967Z",
          "shell.execute_reply": "2024-06-07T16:04:40.499726Z"
        },
        "trusted": true,
        "id": "2rk-iik0XKeM"
      },
      "execution_count": 42,
      "outputs": []
    },
    {
      "cell_type": "code",
      "source": [
        "train"
      ],
      "metadata": {
        "execution": {
          "iopub.status.busy": "2024-06-07T16:05:57.114141Z",
          "iopub.execute_input": "2024-06-07T16:05:57.114583Z",
          "iopub.status.idle": "2024-06-07T16:05:57.130409Z",
          "shell.execute_reply.started": "2024-06-07T16:05:57.114547Z",
          "shell.execute_reply": "2024-06-07T16:05:57.128869Z"
        },
        "trusted": true,
        "colab": {
          "base_uri": "https://localhost:8080/",
          "height": 423
        },
        "id": "qxBOegqtXKeM",
        "outputId": "fd24a6fa-8cbc-4e8e-9343-950b9ec57f04"
      },
      "execution_count": 43,
      "outputs": [
        {
          "output_type": "execute_result",
          "data": {
            "text/plain": [
              "                                                comment Compound to sentiment\n",
              "0     তোমরা সবাই এই ভাই তাকে একটু কোরোভিডিও গুলো দেখ...              positive\n",
              "1     🎯 ব্রহ্মপুত্র নদের ওপর নির্মিত ৯১৫ কিলোমিটারের...              positive\n",
              "2            😊 ধন্যবাদ মাননীয় প্রধানমন্ত্রী শেখ হাসিনা              positive\n",
              "3                                     2022 এর 25 জুন 🥰🥰               neutral\n",
              "4     অনুভূতিটা এত সুন্দর ভাষায় প্রকাশ করতে পারতেছি...              positive\n",
              "...                                                 ...                   ...\n",
              "6370                         সব পিকাব বন্দ করে দেয়া হোক              negative\n",
              "6371  এটাতো গোটারি কথা কারণ কোরআনের বদলে গান বলে উদ্...               neutral\n",
              "6372                             এগুলা সব বিনপির এর কাজ               neutral\n",
              "6373                      এইবার ট্রাক বন্ধ করে দেয়া হোক              negative\n",
              "6374        কি হচ্ছে এসব আল্লাহ তায়ালা হেফাযত করুন আমিন              positive\n",
              "\n",
              "[6375 rows x 2 columns]"
            ],
            "text/html": [
              "\n",
              "  <div id=\"df-ff5be153-532f-431b-af0d-425a1061c021\" class=\"colab-df-container\">\n",
              "    <div>\n",
              "<style scoped>\n",
              "    .dataframe tbody tr th:only-of-type {\n",
              "        vertical-align: middle;\n",
              "    }\n",
              "\n",
              "    .dataframe tbody tr th {\n",
              "        vertical-align: top;\n",
              "    }\n",
              "\n",
              "    .dataframe thead th {\n",
              "        text-align: right;\n",
              "    }\n",
              "</style>\n",
              "<table border=\"1\" class=\"dataframe\">\n",
              "  <thead>\n",
              "    <tr style=\"text-align: right;\">\n",
              "      <th></th>\n",
              "      <th>comment</th>\n",
              "      <th>Compound to sentiment</th>\n",
              "    </tr>\n",
              "  </thead>\n",
              "  <tbody>\n",
              "    <tr>\n",
              "      <th>0</th>\n",
              "      <td>তোমরা সবাই এই ভাই তাকে একটু কোরোভিডিও গুলো দেখ...</td>\n",
              "      <td>positive</td>\n",
              "    </tr>\n",
              "    <tr>\n",
              "      <th>1</th>\n",
              "      <td>🎯 ব্রহ্মপুত্র নদের ওপর নির্মিত ৯১৫ কিলোমিটারের...</td>\n",
              "      <td>positive</td>\n",
              "    </tr>\n",
              "    <tr>\n",
              "      <th>2</th>\n",
              "      <td>😊 ধন্যবাদ মাননীয় প্রধানমন্ত্রী শেখ হাসিনা</td>\n",
              "      <td>positive</td>\n",
              "    </tr>\n",
              "    <tr>\n",
              "      <th>3</th>\n",
              "      <td>2022 এর 25 জুন 🥰🥰</td>\n",
              "      <td>neutral</td>\n",
              "    </tr>\n",
              "    <tr>\n",
              "      <th>4</th>\n",
              "      <td>অনুভূতিটা এত সুন্দর ভাষায় প্রকাশ করতে পারতেছি...</td>\n",
              "      <td>positive</td>\n",
              "    </tr>\n",
              "    <tr>\n",
              "      <th>...</th>\n",
              "      <td>...</td>\n",
              "      <td>...</td>\n",
              "    </tr>\n",
              "    <tr>\n",
              "      <th>6370</th>\n",
              "      <td>সব পিকাব বন্দ করে দেয়া হোক</td>\n",
              "      <td>negative</td>\n",
              "    </tr>\n",
              "    <tr>\n",
              "      <th>6371</th>\n",
              "      <td>এটাতো গোটারি কথা কারণ কোরআনের বদলে গান বলে উদ্...</td>\n",
              "      <td>neutral</td>\n",
              "    </tr>\n",
              "    <tr>\n",
              "      <th>6372</th>\n",
              "      <td>এগুলা সব বিনপির এর কাজ</td>\n",
              "      <td>neutral</td>\n",
              "    </tr>\n",
              "    <tr>\n",
              "      <th>6373</th>\n",
              "      <td>এইবার ট্রাক বন্ধ করে দেয়া হোক</td>\n",
              "      <td>negative</td>\n",
              "    </tr>\n",
              "    <tr>\n",
              "      <th>6374</th>\n",
              "      <td>কি হচ্ছে এসব আল্লাহ তায়ালা হেফাযত করুন আমিন</td>\n",
              "      <td>positive</td>\n",
              "    </tr>\n",
              "  </tbody>\n",
              "</table>\n",
              "<p>6375 rows × 2 columns</p>\n",
              "</div>\n",
              "    <div class=\"colab-df-buttons\">\n",
              "\n",
              "  <div class=\"colab-df-container\">\n",
              "    <button class=\"colab-df-convert\" onclick=\"convertToInteractive('df-ff5be153-532f-431b-af0d-425a1061c021')\"\n",
              "            title=\"Convert this dataframe to an interactive table.\"\n",
              "            style=\"display:none;\">\n",
              "\n",
              "  <svg xmlns=\"http://www.w3.org/2000/svg\" height=\"24px\" viewBox=\"0 -960 960 960\">\n",
              "    <path d=\"M120-120v-720h720v720H120Zm60-500h600v-160H180v160Zm220 220h160v-160H400v160Zm0 220h160v-160H400v160ZM180-400h160v-160H180v160Zm440 0h160v-160H620v160ZM180-180h160v-160H180v160Zm440 0h160v-160H620v160Z\"/>\n",
              "  </svg>\n",
              "    </button>\n",
              "\n",
              "  <style>\n",
              "    .colab-df-container {\n",
              "      display:flex;\n",
              "      gap: 12px;\n",
              "    }\n",
              "\n",
              "    .colab-df-convert {\n",
              "      background-color: #E8F0FE;\n",
              "      border: none;\n",
              "      border-radius: 50%;\n",
              "      cursor: pointer;\n",
              "      display: none;\n",
              "      fill: #1967D2;\n",
              "      height: 32px;\n",
              "      padding: 0 0 0 0;\n",
              "      width: 32px;\n",
              "    }\n",
              "\n",
              "    .colab-df-convert:hover {\n",
              "      background-color: #E2EBFA;\n",
              "      box-shadow: 0px 1px 2px rgba(60, 64, 67, 0.3), 0px 1px 3px 1px rgba(60, 64, 67, 0.15);\n",
              "      fill: #174EA6;\n",
              "    }\n",
              "\n",
              "    .colab-df-buttons div {\n",
              "      margin-bottom: 4px;\n",
              "    }\n",
              "\n",
              "    [theme=dark] .colab-df-convert {\n",
              "      background-color: #3B4455;\n",
              "      fill: #D2E3FC;\n",
              "    }\n",
              "\n",
              "    [theme=dark] .colab-df-convert:hover {\n",
              "      background-color: #434B5C;\n",
              "      box-shadow: 0px 1px 3px 1px rgba(0, 0, 0, 0.15);\n",
              "      filter: drop-shadow(0px 1px 2px rgba(0, 0, 0, 0.3));\n",
              "      fill: #FFFFFF;\n",
              "    }\n",
              "  </style>\n",
              "\n",
              "    <script>\n",
              "      const buttonEl =\n",
              "        document.querySelector('#df-ff5be153-532f-431b-af0d-425a1061c021 button.colab-df-convert');\n",
              "      buttonEl.style.display =\n",
              "        google.colab.kernel.accessAllowed ? 'block' : 'none';\n",
              "\n",
              "      async function convertToInteractive(key) {\n",
              "        const element = document.querySelector('#df-ff5be153-532f-431b-af0d-425a1061c021');\n",
              "        const dataTable =\n",
              "          await google.colab.kernel.invokeFunction('convertToInteractive',\n",
              "                                                    [key], {});\n",
              "        if (!dataTable) return;\n",
              "\n",
              "        const docLinkHtml = 'Like what you see? Visit the ' +\n",
              "          '<a target=\"_blank\" href=https://colab.research.google.com/notebooks/data_table.ipynb>data table notebook</a>'\n",
              "          + ' to learn more about interactive tables.';\n",
              "        element.innerHTML = '';\n",
              "        dataTable['output_type'] = 'display_data';\n",
              "        await google.colab.output.renderOutput(dataTable, element);\n",
              "        const docLink = document.createElement('div');\n",
              "        docLink.innerHTML = docLinkHtml;\n",
              "        element.appendChild(docLink);\n",
              "      }\n",
              "    </script>\n",
              "  </div>\n",
              "\n",
              "\n",
              "<div id=\"df-5674372e-d80a-4504-9074-cd2d9561088f\">\n",
              "  <button class=\"colab-df-quickchart\" onclick=\"quickchart('df-5674372e-d80a-4504-9074-cd2d9561088f')\"\n",
              "            title=\"Suggest charts\"\n",
              "            style=\"display:none;\">\n",
              "\n",
              "<svg xmlns=\"http://www.w3.org/2000/svg\" height=\"24px\"viewBox=\"0 0 24 24\"\n",
              "     width=\"24px\">\n",
              "    <g>\n",
              "        <path d=\"M19 3H5c-1.1 0-2 .9-2 2v14c0 1.1.9 2 2 2h14c1.1 0 2-.9 2-2V5c0-1.1-.9-2-2-2zM9 17H7v-7h2v7zm4 0h-2V7h2v10zm4 0h-2v-4h2v4z\"/>\n",
              "    </g>\n",
              "</svg>\n",
              "  </button>\n",
              "\n",
              "<style>\n",
              "  .colab-df-quickchart {\n",
              "      --bg-color: #E8F0FE;\n",
              "      --fill-color: #1967D2;\n",
              "      --hover-bg-color: #E2EBFA;\n",
              "      --hover-fill-color: #174EA6;\n",
              "      --disabled-fill-color: #AAA;\n",
              "      --disabled-bg-color: #DDD;\n",
              "  }\n",
              "\n",
              "  [theme=dark] .colab-df-quickchart {\n",
              "      --bg-color: #3B4455;\n",
              "      --fill-color: #D2E3FC;\n",
              "      --hover-bg-color: #434B5C;\n",
              "      --hover-fill-color: #FFFFFF;\n",
              "      --disabled-bg-color: #3B4455;\n",
              "      --disabled-fill-color: #666;\n",
              "  }\n",
              "\n",
              "  .colab-df-quickchart {\n",
              "    background-color: var(--bg-color);\n",
              "    border: none;\n",
              "    border-radius: 50%;\n",
              "    cursor: pointer;\n",
              "    display: none;\n",
              "    fill: var(--fill-color);\n",
              "    height: 32px;\n",
              "    padding: 0;\n",
              "    width: 32px;\n",
              "  }\n",
              "\n",
              "  .colab-df-quickchart:hover {\n",
              "    background-color: var(--hover-bg-color);\n",
              "    box-shadow: 0 1px 2px rgba(60, 64, 67, 0.3), 0 1px 3px 1px rgba(60, 64, 67, 0.15);\n",
              "    fill: var(--button-hover-fill-color);\n",
              "  }\n",
              "\n",
              "  .colab-df-quickchart-complete:disabled,\n",
              "  .colab-df-quickchart-complete:disabled:hover {\n",
              "    background-color: var(--disabled-bg-color);\n",
              "    fill: var(--disabled-fill-color);\n",
              "    box-shadow: none;\n",
              "  }\n",
              "\n",
              "  .colab-df-spinner {\n",
              "    border: 2px solid var(--fill-color);\n",
              "    border-color: transparent;\n",
              "    border-bottom-color: var(--fill-color);\n",
              "    animation:\n",
              "      spin 1s steps(1) infinite;\n",
              "  }\n",
              "\n",
              "  @keyframes spin {\n",
              "    0% {\n",
              "      border-color: transparent;\n",
              "      border-bottom-color: var(--fill-color);\n",
              "      border-left-color: var(--fill-color);\n",
              "    }\n",
              "    20% {\n",
              "      border-color: transparent;\n",
              "      border-left-color: var(--fill-color);\n",
              "      border-top-color: var(--fill-color);\n",
              "    }\n",
              "    30% {\n",
              "      border-color: transparent;\n",
              "      border-left-color: var(--fill-color);\n",
              "      border-top-color: var(--fill-color);\n",
              "      border-right-color: var(--fill-color);\n",
              "    }\n",
              "    40% {\n",
              "      border-color: transparent;\n",
              "      border-right-color: var(--fill-color);\n",
              "      border-top-color: var(--fill-color);\n",
              "    }\n",
              "    60% {\n",
              "      border-color: transparent;\n",
              "      border-right-color: var(--fill-color);\n",
              "    }\n",
              "    80% {\n",
              "      border-color: transparent;\n",
              "      border-right-color: var(--fill-color);\n",
              "      border-bottom-color: var(--fill-color);\n",
              "    }\n",
              "    90% {\n",
              "      border-color: transparent;\n",
              "      border-bottom-color: var(--fill-color);\n",
              "    }\n",
              "  }\n",
              "</style>\n",
              "\n",
              "  <script>\n",
              "    async function quickchart(key) {\n",
              "      const quickchartButtonEl =\n",
              "        document.querySelector('#' + key + ' button');\n",
              "      quickchartButtonEl.disabled = true;  // To prevent multiple clicks.\n",
              "      quickchartButtonEl.classList.add('colab-df-spinner');\n",
              "      try {\n",
              "        const charts = await google.colab.kernel.invokeFunction(\n",
              "            'suggestCharts', [key], {});\n",
              "      } catch (error) {\n",
              "        console.error('Error during call to suggestCharts:', error);\n",
              "      }\n",
              "      quickchartButtonEl.classList.remove('colab-df-spinner');\n",
              "      quickchartButtonEl.classList.add('colab-df-quickchart-complete');\n",
              "    }\n",
              "    (() => {\n",
              "      let quickchartButtonEl =\n",
              "        document.querySelector('#df-5674372e-d80a-4504-9074-cd2d9561088f button');\n",
              "      quickchartButtonEl.style.display =\n",
              "        google.colab.kernel.accessAllowed ? 'block' : 'none';\n",
              "    })();\n",
              "  </script>\n",
              "</div>\n",
              "\n",
              "  <div id=\"id_f694fb87-5600-46c6-8b05-86b82efc2a7e\">\n",
              "    <style>\n",
              "      .colab-df-generate {\n",
              "        background-color: #E8F0FE;\n",
              "        border: none;\n",
              "        border-radius: 50%;\n",
              "        cursor: pointer;\n",
              "        display: none;\n",
              "        fill: #1967D2;\n",
              "        height: 32px;\n",
              "        padding: 0 0 0 0;\n",
              "        width: 32px;\n",
              "      }\n",
              "\n",
              "      .colab-df-generate:hover {\n",
              "        background-color: #E2EBFA;\n",
              "        box-shadow: 0px 1px 2px rgba(60, 64, 67, 0.3), 0px 1px 3px 1px rgba(60, 64, 67, 0.15);\n",
              "        fill: #174EA6;\n",
              "      }\n",
              "\n",
              "      [theme=dark] .colab-df-generate {\n",
              "        background-color: #3B4455;\n",
              "        fill: #D2E3FC;\n",
              "      }\n",
              "\n",
              "      [theme=dark] .colab-df-generate:hover {\n",
              "        background-color: #434B5C;\n",
              "        box-shadow: 0px 1px 3px 1px rgba(0, 0, 0, 0.15);\n",
              "        filter: drop-shadow(0px 1px 2px rgba(0, 0, 0, 0.3));\n",
              "        fill: #FFFFFF;\n",
              "      }\n",
              "    </style>\n",
              "    <button class=\"colab-df-generate\" onclick=\"generateWithVariable('df')\"\n",
              "            title=\"Generate code using this dataframe.\"\n",
              "            style=\"display:none;\">\n",
              "\n",
              "  <svg xmlns=\"http://www.w3.org/2000/svg\" height=\"24px\"viewBox=\"0 0 24 24\"\n",
              "       width=\"24px\">\n",
              "    <path d=\"M7,19H8.4L18.45,9,17,7.55,7,17.6ZM5,21V16.75L18.45,3.32a2,2,0,0,1,2.83,0l1.4,1.43a1.91,1.91,0,0,1,.58,1.4,1.91,1.91,0,0,1-.58,1.4L9.25,21ZM18.45,9,17,7.55Zm-12,3A5.31,5.31,0,0,0,4.9,8.1,5.31,5.31,0,0,0,1,6.5,5.31,5.31,0,0,0,4.9,4.9,5.31,5.31,0,0,0,6.5,1,5.31,5.31,0,0,0,8.1,4.9,5.31,5.31,0,0,0,12,6.5,5.46,5.46,0,0,0,6.5,12Z\"/>\n",
              "  </svg>\n",
              "    </button>\n",
              "    <script>\n",
              "      (() => {\n",
              "      const buttonEl =\n",
              "        document.querySelector('#id_f694fb87-5600-46c6-8b05-86b82efc2a7e button.colab-df-generate');\n",
              "      buttonEl.style.display =\n",
              "        google.colab.kernel.accessAllowed ? 'block' : 'none';\n",
              "\n",
              "      buttonEl.onclick = () => {\n",
              "        google.colab.notebook.generateWithVariable('df');\n",
              "      }\n",
              "      })();\n",
              "    </script>\n",
              "  </div>\n",
              "\n",
              "    </div>\n",
              "  </div>\n"
            ],
            "application/vnd.google.colaboratory.intrinsic+json": {
              "type": "dataframe",
              "variable_name": "df",
              "summary": "{\n  \"name\": \"df\",\n  \"rows\": 6375,\n  \"fields\": [\n    {\n      \"column\": \"comment\",\n      \"properties\": {\n        \"dtype\": \"string\",\n        \"num_unique_values\": 6360,\n        \"samples\": [\n          \"\\u0985\\u09b8\\u09be\\u09a7\\u09be\\u09b0\\u09a3 \\u2764\\ufe0f\\u2764\\ufe0f\",\n          \"\\u09b0\\u09bf\\u09aa\\u09cb\\u09b0\\u09cd\\u099f\\u09c7\\u09b0 \\u0995\\u09a8\\u09cd\\u09a0 \\u09a7\\u09be\\u09b0\\u09be\\u09ad\\u09be\\u09b7\\u09cd\\u09af \\u09a4\\u09a5\\u09cd\\u09af 100 \\u09a4\\u09c7 100 \\u09b8\\u09c7\\u0987 \\u09b9\\u09af\\u09bc\\u09c7\\u099b\\u09c7 \\u09a8\\u09be\\u0987\\u09b8\",\n          \"\\ud83d\\udc51\\ud83d\\udc51  \\u099c\\u09c0\\u09ac\\u09a8\\u09c7\\u09b0 \\u09aa\\u09cd\\u09b0\\u09a4\\u09bf\\u099f\\u09bf \\u09ae\\u09c1\\u09b9\\u09c2\\u09b0\\u09cd\\u09a4 \\u09b0\\u0999\\u09bf\\u09a8 \\u09b9\\u09cb\\u0995 \\ud83c\\udf08\\ud83d\\udc96\"\n        ],\n        \"semantic_type\": \"\",\n        \"description\": \"\"\n      }\n    },\n    {\n      \"column\": \"Compound to sentiment\",\n      \"properties\": {\n        \"dtype\": \"category\",\n        \"num_unique_values\": 3,\n        \"samples\": [\n          \"positive\",\n          \"neutral\",\n          \"negative\"\n        ],\n        \"semantic_type\": \"\",\n        \"description\": \"\"\n      }\n    }\n  ]\n}"
            }
          },
          "metadata": {},
          "execution_count": 43
        }
      ]
    },
    {
      "cell_type": "code",
      "source": [
        "sequence = tokenizer.texts_to_sequences(['সাম্প্রতিক বলে মনে হচ্ছে। আশা করি বাকিটাও '])\n",
        "test = pad_sequences(sequence, maxlen=max_len)\n",
        "sentiment[np.around(model2.predict(test), decimals=0).argmax(axis=1)[0]]"
      ],
      "metadata": {
        "execution": {
          "iopub.status.busy": "2024-06-07T16:05:05.289280Z",
          "iopub.execute_input": "2024-06-07T16:05:05.289731Z",
          "iopub.status.idle": "2024-06-07T16:05:06.142255Z",
          "shell.execute_reply.started": "2024-06-07T16:05:05.289690Z",
          "shell.execute_reply": "2024-06-07T16:05:06.141073Z"
        },
        "trusted": true,
        "colab": {
          "base_uri": "https://localhost:8080/",
          "height": 53
        },
        "id": "suExUyYxXKeN",
        "outputId": "e8faed11-4c0b-4855-97bb-4811cebcc657"
      },
      "execution_count": 44,
      "outputs": [
        {
          "output_type": "stream",
          "name": "stdout",
          "text": [
            "\u001b[1m1/1\u001b[0m \u001b[32m━━━━━━━━━━━━━━━━━━━━\u001b[0m\u001b[37m\u001b[0m \u001b[1m1s\u001b[0m 506ms/step\n"
          ]
        },
        {
          "output_type": "execute_result",
          "data": {
            "text/plain": [
              "'Neutral'"
            ],
            "application/vnd.google.colaboratory.intrinsic+json": {
              "type": "string"
            }
          },
          "metadata": {},
          "execution_count": 44
        }
      ]
    },
    {
      "cell_type": "code",
      "source": [
        "sequence = tokenizer.texts_to_sequences(['Agargaon to Uttara'])\n",
        "test = pad_sequences(sequence, maxlen=max_len)\n",
        "sentiment[np.around(model2.predict(test), decimals=0).argmax(axis=1)[0]]"
      ],
      "metadata": {
        "execution": {
          "iopub.status.busy": "2024-06-07T16:05:29.664252Z",
          "iopub.execute_input": "2024-06-07T16:05:29.664716Z",
          "iopub.status.idle": "2024-06-07T16:05:29.739385Z",
          "shell.execute_reply.started": "2024-06-07T16:05:29.664675Z",
          "shell.execute_reply": "2024-06-07T16:05:29.738090Z"
        },
        "trusted": true,
        "colab": {
          "base_uri": "https://localhost:8080/",
          "height": 53
        },
        "id": "_8qwXGrNXKeN",
        "outputId": "c209f43b-5701-40ee-d4c6-70a96d6002af"
      },
      "execution_count": 45,
      "outputs": [
        {
          "output_type": "stream",
          "name": "stdout",
          "text": [
            "\u001b[1m1/1\u001b[0m \u001b[32m━━━━━━━━━━━━━━━━━━━━\u001b[0m\u001b[37m\u001b[0m \u001b[1m0s\u001b[0m 56ms/step\n"
          ]
        },
        {
          "output_type": "execute_result",
          "data": {
            "text/plain": [
              "'Neutral'"
            ],
            "application/vnd.google.colaboratory.intrinsic+json": {
              "type": "string"
            }
          },
          "metadata": {},
          "execution_count": 45
        }
      ]
    },
    {
      "cell_type": "code",
      "source": [
        "sequence = tokenizer.texts_to_sequences(['কোনটাই সহজ হবে না। সবটাই এয়ারপোর্ট থেকে দূর'])\n",
        "test = pad_sequences(sequence, maxlen=max_len)\n",
        "sentiment[np.around(model2.predict(test), decimals=0).argmax(axis=1)[0]]"
      ],
      "metadata": {
        "execution": {
          "iopub.status.busy": "2024-06-07T16:05:43.826715Z",
          "iopub.execute_input": "2024-06-07T16:05:43.827231Z",
          "iopub.status.idle": "2024-06-07T16:05:43.902784Z",
          "shell.execute_reply.started": "2024-06-07T16:05:43.827186Z",
          "shell.execute_reply": "2024-06-07T16:05:43.901553Z"
        },
        "trusted": true,
        "colab": {
          "base_uri": "https://localhost:8080/",
          "height": 53
        },
        "id": "aI2lgzFXXKeN",
        "outputId": "356d7515-d798-4203-cac2-216faabb6745"
      },
      "execution_count": 46,
      "outputs": [
        {
          "output_type": "stream",
          "name": "stdout",
          "text": [
            "\u001b[1m1/1\u001b[0m \u001b[32m━━━━━━━━━━━━━━━━━━━━\u001b[0m\u001b[37m\u001b[0m \u001b[1m0s\u001b[0m 35ms/step\n"
          ]
        },
        {
          "output_type": "execute_result",
          "data": {
            "text/plain": [
              "'Positive'"
            ],
            "application/vnd.google.colaboratory.intrinsic+json": {
              "type": "string"
            }
          },
          "metadata": {},
          "execution_count": 46
        }
      ]
    },
    {
      "cell_type": "code",
      "source": [
        "sequence = tokenizer.texts_to_sequences(['এটি একটি উদাহরণ টেক্সট যেখানে অনেক স্টপওয়ার্ড রয়েছে।'])\n",
        "test = pad_sequences(sequence, maxlen=max_len)\n",
        "sentiment[np.around(model2.predict(test), decimals=0).argmax(axis=1)[0]]"
      ],
      "metadata": {
        "execution": {
          "iopub.status.busy": "2024-06-07T16:06:59.557291Z",
          "iopub.execute_input": "2024-06-07T16:06:59.557752Z",
          "iopub.status.idle": "2024-06-07T16:06:59.633047Z",
          "shell.execute_reply.started": "2024-06-07T16:06:59.557713Z",
          "shell.execute_reply": "2024-06-07T16:06:59.631795Z"
        },
        "trusted": true,
        "colab": {
          "base_uri": "https://localhost:8080/",
          "height": 53
        },
        "id": "Vc8MDob5XKeN",
        "outputId": "d050c0d9-dc0c-4863-a12f-7e2d8d825be9"
      },
      "execution_count": 47,
      "outputs": [
        {
          "output_type": "stream",
          "name": "stdout",
          "text": [
            "\u001b[1m1/1\u001b[0m \u001b[32m━━━━━━━━━━━━━━━━━━━━\u001b[0m\u001b[37m\u001b[0m \u001b[1m0s\u001b[0m 30ms/step\n"
          ]
        },
        {
          "output_type": "execute_result",
          "data": {
            "text/plain": [
              "'Neutral'"
            ],
            "application/vnd.google.colaboratory.intrinsic+json": {
              "type": "string"
            }
          },
          "metadata": {},
          "execution_count": 47
        }
      ]
    },
    {
      "cell_type": "markdown",
      "source": [
        "# My Review"
      ],
      "metadata": {
        "id": "rc8XP7vtXKeN"
      }
    },
    {
      "cell_type": "markdown",
      "source": [
        "Although the model is predicting fine, but from the loss, we can easily see that the model is Overfitting since the train loss is small and validation loss is very high. To prevent overfitting, we need to add some regularization in the model."
      ],
      "metadata": {
        "id": "y60eTp4OXKeN"
      }
    },
    {
      "cell_type": "markdown",
      "source": [
        "# Building model again with some regularization"
      ],
      "metadata": {
        "id": "BZ5H8WBZXKeN"
      }
    },
    {
      "cell_type": "code",
      "source": [
        "model = Sequential()\n",
        "model.add(layers.Embedding(max_words, 40, input_length=max_len))\n",
        "model.add(layers.BatchNormalization())\n",
        "model.add(layers.Bidirectional(layers.LSTM(15,dropout=0.6)))\n",
        "model.add(layers.Dense(3,activation='softmax'))"
      ],
      "metadata": {
        "execution": {
          "iopub.status.busy": "2024-06-07T16:07:05.935879Z",
          "iopub.execute_input": "2024-06-07T16:07:05.936345Z",
          "iopub.status.idle": "2024-06-07T16:07:06.463055Z",
          "shell.execute_reply.started": "2024-06-07T16:07:05.936308Z",
          "shell.execute_reply": "2024-06-07T16:07:06.461768Z"
        },
        "trusted": true,
        "colab": {
          "base_uri": "https://localhost:8080/"
        },
        "id": "RuUPGFw8XKeN",
        "outputId": "2bbe0b09-cb05-4f20-df96-b12482530b1a"
      },
      "execution_count": 48,
      "outputs": [
        {
          "output_type": "stream",
          "name": "stderr",
          "text": [
            "/usr/local/lib/python3.10/dist-packages/keras/src/layers/core/embedding.py:90: UserWarning: Argument `input_length` is deprecated. Just remove it.\n",
            "  warnings.warn(\n"
          ]
        }
      ]
    },
    {
      "cell_type": "code",
      "source": [
        "model.compile(optimizer='rmsprop',loss='categorical_crossentropy', metrics=['accuracy'])"
      ],
      "metadata": {
        "execution": {
          "iopub.status.busy": "2024-06-07T16:07:10.924359Z",
          "iopub.execute_input": "2024-06-07T16:07:10.924794Z",
          "iopub.status.idle": "2024-06-07T16:07:10.938353Z",
          "shell.execute_reply.started": "2024-06-07T16:07:10.924756Z",
          "shell.execute_reply": "2024-06-07T16:07:10.937218Z"
        },
        "trusted": true,
        "id": "TpfTshX1XKeO"
      },
      "execution_count": 49,
      "outputs": []
    },
    {
      "cell_type": "code",
      "source": [
        "history2 = model.fit(x = tweets, y= labels, epochs=30,validation_split=0.2)"
      ],
      "metadata": {
        "execution": {
          "iopub.status.busy": "2024-06-07T16:07:13.588151Z",
          "iopub.execute_input": "2024-06-07T16:07:13.588602Z",
          "iopub.status.idle": "2024-06-07T16:11:16.831898Z",
          "shell.execute_reply.started": "2024-06-07T16:07:13.588563Z",
          "shell.execute_reply": "2024-06-07T16:11:16.830344Z"
        },
        "trusted": true,
        "colab": {
          "base_uri": "https://localhost:8080/"
        },
        "id": "RRm3zYzrXKeO",
        "outputId": "e29c3e5f-dfb7-4850-f143-c54472815de4"
      },
      "execution_count": 50,
      "outputs": [
        {
          "output_type": "stream",
          "name": "stdout",
          "text": [
            "Epoch 1/30\n",
            "\u001b[1m160/160\u001b[0m \u001b[32m━━━━━━━━━━━━━━━━━━━━\u001b[0m\u001b[37m\u001b[0m \u001b[1m27s\u001b[0m 138ms/step - accuracy: 0.4147 - loss: 1.0779 - val_accuracy: 0.3616 - val_loss: 1.1163\n",
            "Epoch 2/30\n",
            "\u001b[1m160/160\u001b[0m \u001b[32m━━━━━━━━━━━━━━━━━━━━\u001b[0m\u001b[37m\u001b[0m \u001b[1m23s\u001b[0m 144ms/step - accuracy: 0.4866 - loss: 1.0036 - val_accuracy: 0.3686 - val_loss: 1.1354\n",
            "Epoch 3/30\n",
            "\u001b[1m160/160\u001b[0m \u001b[32m━━━━━━━━━━━━━━━━━━━━\u001b[0m\u001b[37m\u001b[0m \u001b[1m40s\u001b[0m 140ms/step - accuracy: 0.5354 - loss: 0.9429 - val_accuracy: 0.4494 - val_loss: 1.0283\n",
            "Epoch 4/30\n",
            "\u001b[1m160/160\u001b[0m \u001b[32m━━━━━━━━━━━━━━━━━━━━\u001b[0m\u001b[37m\u001b[0m \u001b[1m23s\u001b[0m 145ms/step - accuracy: 0.5859 - loss: 0.8781 - val_accuracy: 0.4761 - val_loss: 0.9930\n",
            "Epoch 5/30\n",
            "\u001b[1m160/160\u001b[0m \u001b[32m━━━━━━━━━━━━━━━━━━━━\u001b[0m\u001b[37m\u001b[0m \u001b[1m41s\u001b[0m 146ms/step - accuracy: 0.5910 - loss: 0.8631 - val_accuracy: 0.4808 - val_loss: 1.0185\n",
            "Epoch 6/30\n",
            "\u001b[1m160/160\u001b[0m \u001b[32m━━━━━━━━━━━━━━━━━━━━\u001b[0m\u001b[37m\u001b[0m \u001b[1m40s\u001b[0m 142ms/step - accuracy: 0.6145 - loss: 0.8327 - val_accuracy: 0.4337 - val_loss: 1.1824\n",
            "Epoch 7/30\n",
            "\u001b[1m160/160\u001b[0m \u001b[32m━━━━━━━━━━━━━━━━━━━━\u001b[0m\u001b[37m\u001b[0m \u001b[1m22s\u001b[0m 135ms/step - accuracy: 0.6311 - loss: 0.8042 - val_accuracy: 0.5137 - val_loss: 1.0096\n",
            "Epoch 8/30\n",
            "\u001b[1m160/160\u001b[0m \u001b[32m━━━━━━━━━━━━━━━━━━━━\u001b[0m\u001b[37m\u001b[0m \u001b[1m42s\u001b[0m 143ms/step - accuracy: 0.6598 - loss: 0.7711 - val_accuracy: 0.4055 - val_loss: 1.4040\n",
            "Epoch 9/30\n",
            "\u001b[1m160/160\u001b[0m \u001b[32m━━━━━━━━━━━━━━━━━━━━\u001b[0m\u001b[37m\u001b[0m \u001b[1m21s\u001b[0m 132ms/step - accuracy: 0.6642 - loss: 0.7494 - val_accuracy: 0.4784 - val_loss: 1.1474\n",
            "Epoch 10/30\n",
            "\u001b[1m160/160\u001b[0m \u001b[32m━━━━━━━━━━━━━━━━━━━━\u001b[0m\u001b[37m\u001b[0m \u001b[1m42s\u001b[0m 140ms/step - accuracy: 0.6787 - loss: 0.7358 - val_accuracy: 0.4988 - val_loss: 1.1020\n",
            "Epoch 11/30\n",
            "\u001b[1m160/160\u001b[0m \u001b[32m━━━━━━━━━━━━━━━━━━━━\u001b[0m\u001b[37m\u001b[0m \u001b[1m41s\u001b[0m 142ms/step - accuracy: 0.6830 - loss: 0.7216 - val_accuracy: 0.3898 - val_loss: 1.6057\n",
            "Epoch 12/30\n",
            "\u001b[1m160/160\u001b[0m \u001b[32m━━━━━━━━━━━━━━━━━━━━\u001b[0m\u001b[37m\u001b[0m \u001b[1m41s\u001b[0m 144ms/step - accuracy: 0.6971 - loss: 0.6994 - val_accuracy: 0.4855 - val_loss: 1.1430\n",
            "Epoch 13/30\n",
            "\u001b[1m160/160\u001b[0m \u001b[32m━━━━━━━━━━━━━━━━━━━━\u001b[0m\u001b[37m\u001b[0m \u001b[1m22s\u001b[0m 137ms/step - accuracy: 0.7086 - loss: 0.6780 - val_accuracy: 0.4996 - val_loss: 1.0954\n",
            "Epoch 14/30\n",
            "\u001b[1m160/160\u001b[0m \u001b[32m━━━━━━━━━━━━━━━━━━━━\u001b[0m\u001b[37m\u001b[0m \u001b[1m42s\u001b[0m 142ms/step - accuracy: 0.7100 - loss: 0.6724 - val_accuracy: 0.5012 - val_loss: 1.1216\n",
            "Epoch 15/30\n",
            "\u001b[1m160/160\u001b[0m \u001b[32m━━━━━━━━━━━━━━━━━━━━\u001b[0m\u001b[37m\u001b[0m \u001b[1m22s\u001b[0m 136ms/step - accuracy: 0.7293 - loss: 0.6516 - val_accuracy: 0.5090 - val_loss: 1.1398\n",
            "Epoch 16/30\n",
            "\u001b[1m160/160\u001b[0m \u001b[32m━━━━━━━━━━━━━━━━━━━━\u001b[0m\u001b[37m\u001b[0m \u001b[1m42s\u001b[0m 143ms/step - accuracy: 0.7285 - loss: 0.6347 - val_accuracy: 0.4808 - val_loss: 1.2338\n",
            "Epoch 17/30\n",
            "\u001b[1m160/160\u001b[0m \u001b[32m━━━━━━━━━━━━━━━━━━━━\u001b[0m\u001b[37m\u001b[0m \u001b[1m41s\u001b[0m 145ms/step - accuracy: 0.7372 - loss: 0.6311 - val_accuracy: 0.5035 - val_loss: 1.1511\n",
            "Epoch 18/30\n",
            "\u001b[1m160/160\u001b[0m \u001b[32m━━━━━━━━━━━━━━━━━━━━\u001b[0m\u001b[37m\u001b[0m \u001b[1m22s\u001b[0m 135ms/step - accuracy: 0.7452 - loss: 0.6144 - val_accuracy: 0.5059 - val_loss: 1.1445\n",
            "Epoch 19/30\n",
            "\u001b[1m160/160\u001b[0m \u001b[32m━━━━━━━━━━━━━━━━━━━━\u001b[0m\u001b[37m\u001b[0m \u001b[1m43s\u001b[0m 150ms/step - accuracy: 0.7490 - loss: 0.6072 - val_accuracy: 0.4824 - val_loss: 1.1947\n",
            "Epoch 20/30\n",
            "\u001b[1m160/160\u001b[0m \u001b[32m━━━━━━━━━━━━━━━━━━━━\u001b[0m\u001b[37m\u001b[0m \u001b[1m22s\u001b[0m 139ms/step - accuracy: 0.7551 - loss: 0.6044 - val_accuracy: 0.3694 - val_loss: 2.3350\n",
            "Epoch 21/30\n",
            "\u001b[1m160/160\u001b[0m \u001b[32m━━━━━━━━━━━━━━━━━━━━\u001b[0m\u001b[37m\u001b[0m \u001b[1m41s\u001b[0m 141ms/step - accuracy: 0.7552 - loss: 0.5820 - val_accuracy: 0.5075 - val_loss: 1.1903\n",
            "Epoch 22/30\n",
            "\u001b[1m160/160\u001b[0m \u001b[32m━━━━━━━━━━━━━━━━━━━━\u001b[0m\u001b[37m\u001b[0m \u001b[1m42s\u001b[0m 147ms/step - accuracy: 0.7589 - loss: 0.5806 - val_accuracy: 0.4980 - val_loss: 1.2138\n",
            "Epoch 23/30\n",
            "\u001b[1m160/160\u001b[0m \u001b[32m━━━━━━━━━━━━━━━━━━━━\u001b[0m\u001b[37m\u001b[0m \u001b[1m41s\u001b[0m 146ms/step - accuracy: 0.7663 - loss: 0.5770 - val_accuracy: 0.4925 - val_loss: 1.2574\n",
            "Epoch 24/30\n",
            "\u001b[1m160/160\u001b[0m \u001b[32m━━━━━━━━━━━━━━━━━━━━\u001b[0m\u001b[37m\u001b[0m \u001b[1m40s\u001b[0m 143ms/step - accuracy: 0.7614 - loss: 0.5718 - val_accuracy: 0.4675 - val_loss: 1.3803\n",
            "Epoch 25/30\n",
            "\u001b[1m160/160\u001b[0m \u001b[32m━━━━━━━━━━━━━━━━━━━━\u001b[0m\u001b[37m\u001b[0m \u001b[1m41s\u001b[0m 143ms/step - accuracy: 0.7825 - loss: 0.5434 - val_accuracy: 0.4988 - val_loss: 1.2013\n",
            "Epoch 26/30\n",
            "\u001b[1m160/160\u001b[0m \u001b[32m━━━━━━━━━━━━━━━━━━━━\u001b[0m\u001b[37m\u001b[0m \u001b[1m40s\u001b[0m 136ms/step - accuracy: 0.7780 - loss: 0.5495 - val_accuracy: 0.4878 - val_loss: 1.2463\n",
            "Epoch 27/30\n",
            "\u001b[1m160/160\u001b[0m \u001b[32m━━━━━━━━━━━━━━━━━━━━\u001b[0m\u001b[37m\u001b[0m \u001b[1m40s\u001b[0m 130ms/step - accuracy: 0.7823 - loss: 0.5483 - val_accuracy: 0.4808 - val_loss: 1.2655\n",
            "Epoch 28/30\n",
            "\u001b[1m160/160\u001b[0m \u001b[32m━━━━━━━━━━━━━━━━━━━━\u001b[0m\u001b[37m\u001b[0m \u001b[1m22s\u001b[0m 139ms/step - accuracy: 0.7684 - loss: 0.5473 - val_accuracy: 0.4918 - val_loss: 1.2666\n",
            "Epoch 29/30\n",
            "\u001b[1m160/160\u001b[0m \u001b[32m━━━━━━━━━━━━━━━━━━━━\u001b[0m\u001b[37m\u001b[0m \u001b[1m41s\u001b[0m 140ms/step - accuracy: 0.7759 - loss: 0.5413 - val_accuracy: 0.4855 - val_loss: 1.2989\n",
            "Epoch 30/30\n",
            "\u001b[1m160/160\u001b[0m \u001b[32m━━━━━━━━━━━━━━━━━━━━\u001b[0m\u001b[37m\u001b[0m \u001b[1m23s\u001b[0m 145ms/step - accuracy: 0.7947 - loss: 0.5237 - val_accuracy: 0.4839 - val_loss: 1.3136\n"
          ]
        }
      ]
    },
    {
      "cell_type": "code",
      "source": [
        "plt.plot(history2.history['loss'])\n",
        "plt.plot(history2.history['val_loss'])\n",
        "plt.title('Loss')\n",
        "plt.ylabel('loss')\n",
        "plt.xlabel('epoch')\n",
        "plt.legend(['train', 'validation'], loc='upper left')\n",
        "plt.show()"
      ],
      "metadata": {
        "execution": {
          "iopub.status.busy": "2024-06-07T16:13:08.793259Z",
          "iopub.execute_input": "2024-06-07T16:13:08.793781Z",
          "iopub.status.idle": "2024-06-07T16:13:09.004676Z",
          "shell.execute_reply.started": "2024-06-07T16:13:08.793745Z",
          "shell.execute_reply": "2024-06-07T16:13:09.003294Z"
        },
        "trusted": true,
        "colab": {
          "base_uri": "https://localhost:8080/",
          "height": 472
        },
        "id": "xHxtgIqaXKeO",
        "outputId": "c22fd417-32c5-4f98-b9b3-c1068f87c780"
      },
      "execution_count": 51,
      "outputs": [
        {
          "output_type": "display_data",
          "data": {
            "text/plain": [
              "<Figure size 640x480 with 1 Axes>"
            ],
            "image/png": "[encoded data removed]"
          },
          "metadata": {}
        }
      ]
    },
    {
      "cell_type": "code",
      "source": [
        "plt.plot(history2.history['accuracy'])\n",
        "plt.plot(history2.history['val_accuracy'])\n",
        "plt.title('Accuracy')\n",
        "plt.ylabel('Accuracy')\n",
        "plt.xlabel('epoch')\n",
        "plt.legend(['train', 'validation'], loc='upper left')\n",
        "plt.show()"
      ],
      "metadata": {
        "execution": {
          "iopub.status.busy": "2024-06-07T16:13:11.943078Z",
          "iopub.execute_input": "2024-06-07T16:13:11.943550Z",
          "iopub.status.idle": "2024-06-07T16:13:12.163198Z",
          "shell.execute_reply.started": "2024-06-07T16:13:11.943509Z",
          "shell.execute_reply": "2024-06-07T16:13:12.161845Z"
        },
        "trusted": true,
        "colab": {
          "base_uri": "https://localhost:8080/",
          "height": 472
        },
        "id": "xZcVgWmQXKeO",
        "outputId": "fc61e896-7d1e-4eb7-f833-3fb569056342"
      },
      "execution_count": 52,
      "outputs": [
        {
          "output_type": "display_data",
          "data": {
            "text/plain": [
              "<Figure size 640x480 with 1 Axes>"
            ],
            "image/png": "[encoded data removed]"
          },
          "metadata": {}
        }
      ]
    },
    {
      "cell_type": "markdown",
      "source": [
        "# Prediction and Result"
      ],
      "metadata": {
        "id": "52ikcnWyXKeO"
      }
    },
    {
      "cell_type": "code",
      "source": [
        "sequence = tokenizer.texts_to_sequences(['কোনটাই সহজ হবে না। সবটাই এয়ারপোর্ট থেকে দূর'])\n",
        "test = pad_sequences(sequence, maxlen=max_len)\n",
        "sentiment[np.around(model.predict(test), decimals=0).argmax(axis=1)[0]]"
      ],
      "metadata": {
        "execution": {
          "iopub.status.busy": "2024-06-07T16:13:16.343272Z",
          "iopub.execute_input": "2024-06-07T16:13:16.343754Z",
          "iopub.status.idle": "2024-06-07T16:13:17.210763Z",
          "shell.execute_reply.started": "2024-06-07T16:13:16.343714Z",
          "shell.execute_reply": "2024-06-07T16:13:17.209560Z"
        },
        "trusted": true,
        "colab": {
          "base_uri": "https://localhost:8080/",
          "height": 53
        },
        "id": "uubkkZ_MXKeO",
        "outputId": "15f19be0-5221-467e-be9d-dfe7acba9eb3"
      },
      "execution_count": 53,
      "outputs": [
        {
          "output_type": "stream",
          "name": "stdout",
          "text": [
            "\u001b[1m1/1\u001b[0m \u001b[32m━━━━━━━━━━━━━━━━━━━━\u001b[0m\u001b[37m\u001b[0m \u001b[1m0s\u001b[0m 405ms/step\n"
          ]
        },
        {
          "output_type": "execute_result",
          "data": {
            "text/plain": [
              "'Positive'"
            ],
            "application/vnd.google.colaboratory.intrinsic+json": {
              "type": "string"
            }
          },
          "metadata": {},
          "execution_count": 53
        }
      ]
    },
    {
      "cell_type": "code",
      "source": [
        "sequence = tokenizer.texts_to_sequences(['তুমি ভালো আছো না'])\n",
        "test = pad_sequences(sequence, maxlen=max_len)\n",
        "sentiment[np.around(model.predict(test), decimals=0).argmax(axis=1)[0]]"
      ],
      "metadata": {
        "execution": {
          "iopub.status.busy": "2024-06-07T16:13:37.120122Z",
          "iopub.execute_input": "2024-06-07T16:13:37.120664Z",
          "iopub.status.idle": "2024-06-07T16:13:37.196102Z",
          "shell.execute_reply.started": "2024-06-07T16:13:37.120618Z",
          "shell.execute_reply": "2024-06-07T16:13:37.194592Z"
        },
        "trusted": true,
        "colab": {
          "base_uri": "https://localhost:8080/",
          "height": 53
        },
        "id": "w1J7aonSXKeO",
        "outputId": "023fc2fe-ac36-445c-84be-35195721cc09"
      },
      "execution_count": 54,
      "outputs": [
        {
          "output_type": "stream",
          "name": "stdout",
          "text": [
            "\u001b[1m1/1\u001b[0m \u001b[32m━━━━━━━━━━━━━━━━━━━━\u001b[0m\u001b[37m\u001b[0m \u001b[1m0s\u001b[0m 28ms/step\n"
          ]
        },
        {
          "output_type": "execute_result",
          "data": {
            "text/plain": [
              "'Neutral'"
            ],
            "application/vnd.google.colaboratory.intrinsic+json": {
              "type": "string"
            }
          },
          "metadata": {},
          "execution_count": 54
        }
      ]
    },
    {
      "cell_type": "code",
      "source": [
        "sequence = tokenizer.texts_to_sequences([' আমরা খেতে যাব না'])\n",
        "test = pad_sequences(sequence, maxlen=max_len)\n",
        "sentiment[np.around(model.predict(test), decimals=0).argmax(axis=1)[0]]"
      ],
      "metadata": {
        "execution": {
          "iopub.status.busy": "2024-06-07T16:13:50.418201Z",
          "iopub.execute_input": "2024-06-07T16:13:50.418731Z",
          "iopub.status.idle": "2024-06-07T16:13:50.503326Z",
          "shell.execute_reply.started": "2024-06-07T16:13:50.418688Z",
          "shell.execute_reply": "2024-06-07T16:13:50.502106Z"
        },
        "trusted": true,
        "colab": {
          "base_uri": "https://localhost:8080/",
          "height": 53
        },
        "id": "WKK9QJ1dXKeO",
        "outputId": "2b575db2-b94d-417b-8773-341677511ea0"
      },
      "execution_count": 55,
      "outputs": [
        {
          "output_type": "stream",
          "name": "stdout",
          "text": [
            "\u001b[1m1/1\u001b[0m \u001b[32m━━━━━━━━━━━━━━━━━━━━\u001b[0m\u001b[37m\u001b[0m \u001b[1m0s\u001b[0m 29ms/step\n"
          ]
        },
        {
          "output_type": "execute_result",
          "data": {
            "text/plain": [
              "'Neutral'"
            ],
            "application/vnd.google.colaboratory.intrinsic+json": {
              "type": "string"
            }
          },
          "metadata": {},
          "execution_count": 55
        }
      ]
    },
    {
      "cell_type": "markdown",
      "source": [
        "# My Review"
      ],
      "metadata": {
        "id": "lcI5XFrbXKeP"
      }
    },
    {
      "cell_type": "markdown",
      "source": [
        "After adding some regularization and lowing the complexity of Neural network, the model is working fine as we can see from the loss and accuracy graph."
      ],
      "metadata": {
        "id": "UpVmYep7XKeP"
      }
    }
  ]
}